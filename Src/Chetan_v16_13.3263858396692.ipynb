{
 "cells": [
  {
   "cell_type": "markdown",
   "metadata": {},
   "source": [
    "LTFS receives a lot of requests for its various finance offerings that include housing loan, two-wheeler loan, real estate financing and micro loans. The number of applications received is something that varies a lot with season. Going through these applications is a manual process and is tedious. Accurately forecasting the number of cases received can help with resource and manpower management resulting into quick response on applications and more efficient processing.\n",
    "\n",
    "You have been appointed with the task of forecasting daily cases for next 3 months for 2 different business segments at the country level keeping in consideration the following major Indian festivals (inclusive but not exhaustive list): Diwali, Dussehra, Ganesh Chaturthi, Navratri, Holi etc. (You are free to use any publicly available open source external datasets). Some other examples could be:\n",
    "\n",
    "Weather\n",
    "Macroeconomic variables\n",
    " Note that the external dataset must belong to a reliable source."
   ]
  },
  {
   "cell_type": "markdown",
   "metadata": {},
   "source": [
    "# Import Libraries"
   ]
  },
  {
   "cell_type": "code",
   "execution_count": 1,
   "metadata": {
    "_cell_guid": "b1076dfc-b9ad-4769-8c92-a6c4dae69d19",
    "_uuid": "8f2839f25d086af736a60e9eeb907d3b93b6e0e5"
   },
   "outputs": [
    {
     "name": "stdout",
     "output_type": "stream",
     "text": [
      "/kaggle/input/ltfs-finhack2/sample_submission_IIzFVsf.csv\n",
      "/kaggle/input/ltfs-finhack2/train_fwYjLYX.csv\n",
      "/kaggle/input/ltfs-finhack2/test_1eLl9Yf.csv\n"
     ]
    }
   ],
   "source": [
    "import numpy as np  \n",
    "import pandas as pd  \n",
    "import matplotlib.pyplot as plt\n",
    "import seaborn as sns\n",
    "import warnings\n",
    "warnings.filterwarnings('ignore')\n",
    "import os\n",
    "for dirname, _, filenames in os.walk('/kaggle/input'):\n",
    "    for filename in filenames:\n",
    "        print(os.path.join(dirname, filename))"
   ]
  },
  {
   "cell_type": "code",
   "execution_count": 2,
   "metadata": {},
   "outputs": [],
   "source": [
    "def mean_absolute_percentage_error(y_true, y_pred): \n",
    "    y_true, y_pred = np.array(y_true), np.array(y_pred)\n",
    "    return np.mean(np.abs((y_true - y_pred) / y_true)) * 100"
   ]
  },
  {
   "cell_type": "code",
   "execution_count": 3,
   "metadata": {},
   "outputs": [],
   "source": [
    "import holidays\n",
    "from datetime import date\n",
    "\n",
    "ind_holidays = holidays.IND(years=[2017,2018,2019])\n",
    "\n",
    "hol=['2017-02-24','2017-03-13','2017-03-28','2017-04-05','2017-04-09','2017-04-14','2017-05-10','2017-06-25','2017-06-26','2017-08-07','2017-09-30',\n",
    "     '2017-10-02','2017-10-19','2018-02-24','2018-03-13','2018-03-28','2018-04-05','2018-04-09','2018-04-14','2018-05-10','2018-06-25','2018-06-26',\n",
    "     '2018-08-07','2018-09-30','2018-10-02','2018-10-19','2019-02-24','2019-03-13','2019-03-28','2019-04-05','2019-04-09','2019-04-14','2019-05-10',\n",
    "     '2019-06-25','2019-06-26','2019-08-07','2019-09-30','2019-10-02','2019-10-19']\n",
    "\n",
    "for date, name in sorted(ind_holidays.items()):\n",
    "    hol.append(str(date))"
   ]
  },
  {
   "cell_type": "markdown",
   "metadata": {},
   "source": [
    "# Import Datasets"
   ]
  },
  {
   "cell_type": "code",
   "execution_count": 4,
   "metadata": {},
   "outputs": [],
   "source": [
    "train = pd.read_csv('/kaggle/input/ltfs-finhack2/train_fwYjLYX.csv', parse_dates=True)\n",
    "test = pd.read_csv('/kaggle/input/ltfs-finhack2/test_1eLl9Yf.csv',parse_dates=True)\n",
    "sample_sub = pd.read_csv('/kaggle/input/ltfs-finhack2/sample_submission_IIzFVsf.csv')"
   ]
  },
  {
   "cell_type": "markdown",
   "metadata": {},
   "source": [
    "# Data Processing"
   ]
  },
  {
   "cell_type": "code",
   "execution_count": 5,
   "metadata": {},
   "outputs": [
    {
     "name": "stdout",
     "output_type": "stream",
     "text": [
      "<class 'pandas.core.frame.DataFrame'>\n",
      "RangeIndex: 80402 entries, 0 to 80401\n",
      "Data columns (total 6 columns):\n",
      "application_date    80402 non-null object\n",
      "segment             80402 non-null int64\n",
      "branch_id           66898 non-null float64\n",
      "state               80402 non-null object\n",
      "zone                66898 non-null object\n",
      "case_count          80402 non-null float64\n",
      "dtypes: float64(2), int64(1), object(3)\n",
      "memory usage: 3.7+ MB\n"
     ]
    }
   ],
   "source": [
    "train.info()"
   ]
  },
  {
   "cell_type": "code",
   "execution_count": 6,
   "metadata": {},
   "outputs": [
    {
     "data": {
      "text/plain": [
       "((80402, 6), (180, 3), (180, 4))"
      ]
     },
     "execution_count": 6,
     "metadata": {},
     "output_type": "execute_result"
    }
   ],
   "source": [
    "train.shape, test.shape, sample_sub.shape"
   ]
  },
  {
   "cell_type": "code",
   "execution_count": 7,
   "metadata": {},
   "outputs": [
    {
     "data": {
      "text/plain": [
       "application_date     844\n",
       "segment                2\n",
       "branch_id             83\n",
       "state                 20\n",
       "zone                   5\n",
       "case_count          3245\n",
       "dtype: int64"
      ]
     },
     "execution_count": 7,
     "metadata": {},
     "output_type": "execute_result"
    }
   ],
   "source": [
    "train.nunique()"
   ]
  },
  {
   "cell_type": "code",
   "execution_count": 8,
   "metadata": {
    "_cell_guid": "79c7e3d0-c299-4dcb-8224-4455121ee9b0",
    "_uuid": "d629ff2d2480ee46fbb7e2d37f6b5fab8052498a"
   },
   "outputs": [
    {
     "data": {
      "text/html": [
       "<div>\n",
       "<style scoped>\n",
       "    .dataframe tbody tr th:only-of-type {\n",
       "        vertical-align: middle;\n",
       "    }\n",
       "\n",
       "    .dataframe tbody tr th {\n",
       "        vertical-align: top;\n",
       "    }\n",
       "\n",
       "    .dataframe thead th {\n",
       "        text-align: right;\n",
       "    }\n",
       "</style>\n",
       "<table border=\"1\" class=\"dataframe\">\n",
       "  <thead>\n",
       "    <tr style=\"text-align: right;\">\n",
       "      <th></th>\n",
       "      <th>application_date</th>\n",
       "      <th>segment</th>\n",
       "      <th>branch_id</th>\n",
       "      <th>state</th>\n",
       "      <th>zone</th>\n",
       "      <th>case_count</th>\n",
       "    </tr>\n",
       "  </thead>\n",
       "  <tbody>\n",
       "    <tr>\n",
       "      <th>0</th>\n",
       "      <td>2017-04-01</td>\n",
       "      <td>1</td>\n",
       "      <td>1.0</td>\n",
       "      <td>WEST BENGAL</td>\n",
       "      <td>EAST</td>\n",
       "      <td>40.0</td>\n",
       "    </tr>\n",
       "    <tr>\n",
       "      <th>1</th>\n",
       "      <td>2017-04-03</td>\n",
       "      <td>1</td>\n",
       "      <td>1.0</td>\n",
       "      <td>WEST BENGAL</td>\n",
       "      <td>EAST</td>\n",
       "      <td>5.0</td>\n",
       "    </tr>\n",
       "    <tr>\n",
       "      <th>2</th>\n",
       "      <td>2017-04-04</td>\n",
       "      <td>1</td>\n",
       "      <td>1.0</td>\n",
       "      <td>WEST BENGAL</td>\n",
       "      <td>EAST</td>\n",
       "      <td>4.0</td>\n",
       "    </tr>\n",
       "    <tr>\n",
       "      <th>3</th>\n",
       "      <td>2017-04-05</td>\n",
       "      <td>1</td>\n",
       "      <td>1.0</td>\n",
       "      <td>WEST BENGAL</td>\n",
       "      <td>EAST</td>\n",
       "      <td>113.0</td>\n",
       "    </tr>\n",
       "    <tr>\n",
       "      <th>4</th>\n",
       "      <td>2017-04-07</td>\n",
       "      <td>1</td>\n",
       "      <td>1.0</td>\n",
       "      <td>WEST BENGAL</td>\n",
       "      <td>EAST</td>\n",
       "      <td>76.0</td>\n",
       "    </tr>\n",
       "  </tbody>\n",
       "</table>\n",
       "</div>"
      ],
      "text/plain": [
       "  application_date  segment  branch_id        state  zone  case_count\n",
       "0       2017-04-01        1        1.0  WEST BENGAL  EAST        40.0\n",
       "1       2017-04-03        1        1.0  WEST BENGAL  EAST         5.0\n",
       "2       2017-04-04        1        1.0  WEST BENGAL  EAST         4.0\n",
       "3       2017-04-05        1        1.0  WEST BENGAL  EAST       113.0\n",
       "4       2017-04-07        1        1.0  WEST BENGAL  EAST        76.0"
      ]
     },
     "execution_count": 8,
     "metadata": {},
     "output_type": "execute_result"
    }
   ],
   "source": [
    "train.head()"
   ]
  },
  {
   "cell_type": "code",
   "execution_count": 9,
   "metadata": {},
   "outputs": [
    {
     "data": {
      "text/html": [
       "<div>\n",
       "<style scoped>\n",
       "    .dataframe tbody tr th:only-of-type {\n",
       "        vertical-align: middle;\n",
       "    }\n",
       "\n",
       "    .dataframe tbody tr th {\n",
       "        vertical-align: top;\n",
       "    }\n",
       "\n",
       "    .dataframe thead th {\n",
       "        text-align: right;\n",
       "    }\n",
       "</style>\n",
       "<table border=\"1\" class=\"dataframe\">\n",
       "  <thead>\n",
       "    <tr style=\"text-align: right;\">\n",
       "      <th></th>\n",
       "      <th>id</th>\n",
       "      <th>application_date</th>\n",
       "      <th>segment</th>\n",
       "    </tr>\n",
       "  </thead>\n",
       "  <tbody>\n",
       "    <tr>\n",
       "      <th>175</th>\n",
       "      <td>176</td>\n",
       "      <td>2019-10-20</td>\n",
       "      <td>2</td>\n",
       "    </tr>\n",
       "    <tr>\n",
       "      <th>176</th>\n",
       "      <td>177</td>\n",
       "      <td>2019-10-21</td>\n",
       "      <td>2</td>\n",
       "    </tr>\n",
       "    <tr>\n",
       "      <th>177</th>\n",
       "      <td>178</td>\n",
       "      <td>2019-10-22</td>\n",
       "      <td>2</td>\n",
       "    </tr>\n",
       "    <tr>\n",
       "      <th>178</th>\n",
       "      <td>179</td>\n",
       "      <td>2019-10-23</td>\n",
       "      <td>2</td>\n",
       "    </tr>\n",
       "    <tr>\n",
       "      <th>179</th>\n",
       "      <td>180</td>\n",
       "      <td>2019-10-24</td>\n",
       "      <td>2</td>\n",
       "    </tr>\n",
       "  </tbody>\n",
       "</table>\n",
       "</div>"
      ],
      "text/plain": [
       "      id application_date  segment\n",
       "175  176       2019-10-20        2\n",
       "176  177       2019-10-21        2\n",
       "177  178       2019-10-22        2\n",
       "178  179       2019-10-23        2\n",
       "179  180       2019-10-24        2"
      ]
     },
     "execution_count": 9,
     "metadata": {},
     "output_type": "execute_result"
    }
   ],
   "source": [
    "test.tail()"
   ]
  },
  {
   "cell_type": "code",
   "execution_count": 10,
   "metadata": {},
   "outputs": [
    {
     "data": {
      "text/plain": [
       "2    93\n",
       "1    87\n",
       "Name: segment, dtype: int64"
      ]
     },
     "execution_count": 10,
     "metadata": {},
     "output_type": "execute_result"
    }
   ],
   "source": [
    "test['segment'].value_counts()"
   ]
  },
  {
   "cell_type": "code",
   "execution_count": 11,
   "metadata": {},
   "outputs": [
    {
     "data": {
      "text/html": [
       "<div>\n",
       "<style scoped>\n",
       "    .dataframe tbody tr th:only-of-type {\n",
       "        vertical-align: middle;\n",
       "    }\n",
       "\n",
       "    .dataframe tbody tr th {\n",
       "        vertical-align: top;\n",
       "    }\n",
       "\n",
       "    .dataframe thead th {\n",
       "        text-align: right;\n",
       "    }\n",
       "</style>\n",
       "<table border=\"1\" class=\"dataframe\">\n",
       "  <thead>\n",
       "    <tr style=\"text-align: right;\">\n",
       "      <th></th>\n",
       "      <th>id</th>\n",
       "      <th>application_date</th>\n",
       "      <th>segment</th>\n",
       "      <th>case_count</th>\n",
       "    </tr>\n",
       "  </thead>\n",
       "  <tbody>\n",
       "    <tr>\n",
       "      <th>0</th>\n",
       "      <td>1</td>\n",
       "      <td>2019-07-06</td>\n",
       "      <td>1</td>\n",
       "      <td>5</td>\n",
       "    </tr>\n",
       "    <tr>\n",
       "      <th>1</th>\n",
       "      <td>2</td>\n",
       "      <td>2019-07-07</td>\n",
       "      <td>1</td>\n",
       "      <td>5</td>\n",
       "    </tr>\n",
       "    <tr>\n",
       "      <th>2</th>\n",
       "      <td>3</td>\n",
       "      <td>2019-07-08</td>\n",
       "      <td>1</td>\n",
       "      <td>5</td>\n",
       "    </tr>\n",
       "    <tr>\n",
       "      <th>3</th>\n",
       "      <td>4</td>\n",
       "      <td>2019-07-09</td>\n",
       "      <td>1</td>\n",
       "      <td>5</td>\n",
       "    </tr>\n",
       "    <tr>\n",
       "      <th>4</th>\n",
       "      <td>5</td>\n",
       "      <td>2019-07-10</td>\n",
       "      <td>1</td>\n",
       "      <td>5</td>\n",
       "    </tr>\n",
       "  </tbody>\n",
       "</table>\n",
       "</div>"
      ],
      "text/plain": [
       "   id application_date  segment  case_count\n",
       "0   1       2019-07-06        1           5\n",
       "1   2       2019-07-07        1           5\n",
       "2   3       2019-07-08        1           5\n",
       "3   4       2019-07-09        1           5\n",
       "4   5       2019-07-10        1           5"
      ]
     },
     "execution_count": 11,
     "metadata": {},
     "output_type": "execute_result"
    }
   ],
   "source": [
    "sample_sub.head()"
   ]
  },
  {
   "cell_type": "code",
   "execution_count": 12,
   "metadata": {},
   "outputs": [],
   "source": [
    "train['application_date'] = pd.to_datetime(train['application_date'],format='%Y-%m-%d')\n",
    "test['application_date'] = pd.to_datetime(test['application_date'],format='%Y-%m-%d')"
   ]
  },
  {
   "cell_type": "code",
   "execution_count": 13,
   "metadata": {},
   "outputs": [],
   "source": [
    "train1 = train[train['segment'] == 1].groupby(['application_date']).sum().reset_index()[['application_date','case_count']].sort_values('application_date')\n",
    "train2 = train[train['segment'] == 2].groupby(['application_date']).sum().reset_index()[['application_date','case_count']].sort_values('application_date')"
   ]
  },
  {
   "cell_type": "code",
   "execution_count": 14,
   "metadata": {},
   "outputs": [],
   "source": [
    "def create_date_featues(df):\n",
    "    df['Year'] = pd.to_datetime(df['application_date']).dt.year\n",
    "    df['Month'] = pd.to_datetime(df['application_date']).dt.month\n",
    "    df['Day'] = pd.to_datetime(df['application_date']).dt.day\n",
    "    df['Dayofweek'] = pd.to_datetime(df['application_date']).dt.dayofweek\n",
    "    df['DayOfyear'] = pd.to_datetime(df['application_date']).dt.dayofyear\n",
    "    df['Week'] = pd.to_datetime(df['application_date']).dt.week \n",
    "    df['Quarter'] = pd.to_datetime(df['application_date']).dt.quarter  \n",
    "    df['Is_month_start'] = pd.to_datetime(df['application_date']).dt.is_month_start \n",
    "    df['Is_month_end'] = pd.to_datetime(df['application_date']).dt.is_month_end \n",
    "    df['Is_quarter_start'] = pd.to_datetime(df['application_date']).dt.is_quarter_start\n",
    "    df['Is_quarter_end'] = pd.to_datetime(df['application_date']).dt.is_quarter_end \n",
    "    df['Is_year_start'] = pd.to_datetime(df['application_date']).dt.is_year_start \n",
    "    df['Is_year_end'] = pd.to_datetime(df['application_date']).dt.is_year_end\n",
    "    df['Semester'] = np.where(df['Quarter'].isin([1,2]),1,2)\n",
    "    #df['Is_weekend'] = np.where(df['Dayofweek'].isin([5,6]),1,0)\n",
    "    #df['Is_weekday'] = np.where(df['Dayofweek'].isin([0,1,2,3,4]),1,0)\n",
    "    #df['Days_in_month'] = pd.to_datetime(df['application_date']).dt.days_in_month \n",
    "    return df"
   ]
  },
  {
   "cell_type": "code",
   "execution_count": 15,
   "metadata": {},
   "outputs": [],
   "source": [
    "train1 = create_date_featues(train1)\n",
    "train2 = create_date_featues(train2)"
   ]
  },
  {
   "cell_type": "code",
   "execution_count": 16,
   "metadata": {},
   "outputs": [],
   "source": [
    "train1['Is_holiday'] = train1['application_date'].isin(hol)\n",
    "train2['Is_holiday'] = train2['application_date'].isin(hol)"
   ]
  },
  {
   "cell_type": "code",
   "execution_count": 17,
   "metadata": {},
   "outputs": [
    {
     "data": {
      "text/html": [
       "<div>\n",
       "<style scoped>\n",
       "    .dataframe tbody tr th:only-of-type {\n",
       "        vertical-align: middle;\n",
       "    }\n",
       "\n",
       "    .dataframe tbody tr th {\n",
       "        vertical-align: top;\n",
       "    }\n",
       "\n",
       "    .dataframe thead th {\n",
       "        text-align: right;\n",
       "    }\n",
       "</style>\n",
       "<table border=\"1\" class=\"dataframe\">\n",
       "  <thead>\n",
       "    <tr style=\"text-align: right;\">\n",
       "      <th></th>\n",
       "      <th>application_date</th>\n",
       "      <th>case_count</th>\n",
       "      <th>Year</th>\n",
       "      <th>Month</th>\n",
       "      <th>Day</th>\n",
       "      <th>Dayofweek</th>\n",
       "      <th>DayOfyear</th>\n",
       "      <th>Week</th>\n",
       "      <th>Quarter</th>\n",
       "      <th>Is_month_start</th>\n",
       "      <th>Is_month_end</th>\n",
       "      <th>Is_quarter_start</th>\n",
       "      <th>Is_quarter_end</th>\n",
       "      <th>Is_year_start</th>\n",
       "      <th>Is_year_end</th>\n",
       "      <th>Semester</th>\n",
       "      <th>Is_holiday</th>\n",
       "    </tr>\n",
       "  </thead>\n",
       "  <tbody>\n",
       "    <tr>\n",
       "      <th>0</th>\n",
       "      <td>2017-04-01</td>\n",
       "      <td>299.0</td>\n",
       "      <td>2017</td>\n",
       "      <td>4</td>\n",
       "      <td>1</td>\n",
       "      <td>5</td>\n",
       "      <td>91</td>\n",
       "      <td>13</td>\n",
       "      <td>2</td>\n",
       "      <td>True</td>\n",
       "      <td>False</td>\n",
       "      <td>True</td>\n",
       "      <td>False</td>\n",
       "      <td>False</td>\n",
       "      <td>False</td>\n",
       "      <td>1</td>\n",
       "      <td>False</td>\n",
       "    </tr>\n",
       "    <tr>\n",
       "      <th>1</th>\n",
       "      <td>2017-04-03</td>\n",
       "      <td>42.0</td>\n",
       "      <td>2017</td>\n",
       "      <td>4</td>\n",
       "      <td>3</td>\n",
       "      <td>0</td>\n",
       "      <td>93</td>\n",
       "      <td>14</td>\n",
       "      <td>2</td>\n",
       "      <td>False</td>\n",
       "      <td>False</td>\n",
       "      <td>False</td>\n",
       "      <td>False</td>\n",
       "      <td>False</td>\n",
       "      <td>False</td>\n",
       "      <td>1</td>\n",
       "      <td>False</td>\n",
       "    </tr>\n",
       "    <tr>\n",
       "      <th>2</th>\n",
       "      <td>2017-04-04</td>\n",
       "      <td>23.0</td>\n",
       "      <td>2017</td>\n",
       "      <td>4</td>\n",
       "      <td>4</td>\n",
       "      <td>1</td>\n",
       "      <td>94</td>\n",
       "      <td>14</td>\n",
       "      <td>2</td>\n",
       "      <td>False</td>\n",
       "      <td>False</td>\n",
       "      <td>False</td>\n",
       "      <td>False</td>\n",
       "      <td>False</td>\n",
       "      <td>False</td>\n",
       "      <td>1</td>\n",
       "      <td>False</td>\n",
       "    </tr>\n",
       "    <tr>\n",
       "      <th>3</th>\n",
       "      <td>2017-04-05</td>\n",
       "      <td>1530.0</td>\n",
       "      <td>2017</td>\n",
       "      <td>4</td>\n",
       "      <td>5</td>\n",
       "      <td>2</td>\n",
       "      <td>95</td>\n",
       "      <td>14</td>\n",
       "      <td>2</td>\n",
       "      <td>False</td>\n",
       "      <td>False</td>\n",
       "      <td>False</td>\n",
       "      <td>False</td>\n",
       "      <td>False</td>\n",
       "      <td>False</td>\n",
       "      <td>1</td>\n",
       "      <td>True</td>\n",
       "    </tr>\n",
       "    <tr>\n",
       "      <th>4</th>\n",
       "      <td>2017-04-07</td>\n",
       "      <td>1341.0</td>\n",
       "      <td>2017</td>\n",
       "      <td>4</td>\n",
       "      <td>7</td>\n",
       "      <td>4</td>\n",
       "      <td>97</td>\n",
       "      <td>14</td>\n",
       "      <td>2</td>\n",
       "      <td>False</td>\n",
       "      <td>False</td>\n",
       "      <td>False</td>\n",
       "      <td>False</td>\n",
       "      <td>False</td>\n",
       "      <td>False</td>\n",
       "      <td>1</td>\n",
       "      <td>False</td>\n",
       "    </tr>\n",
       "  </tbody>\n",
       "</table>\n",
       "</div>"
      ],
      "text/plain": [
       "  application_date  case_count  Year  Month  Day  Dayofweek  DayOfyear  Week  \\\n",
       "0       2017-04-01       299.0  2017      4    1          5         91    13   \n",
       "1       2017-04-03        42.0  2017      4    3          0         93    14   \n",
       "2       2017-04-04        23.0  2017      4    4          1         94    14   \n",
       "3       2017-04-05      1530.0  2017      4    5          2         95    14   \n",
       "4       2017-04-07      1341.0  2017      4    7          4         97    14   \n",
       "\n",
       "   Quarter  Is_month_start  Is_month_end  Is_quarter_start  Is_quarter_end  \\\n",
       "0        2            True         False              True           False   \n",
       "1        2           False         False             False           False   \n",
       "2        2           False         False             False           False   \n",
       "3        2           False         False             False           False   \n",
       "4        2           False         False             False           False   \n",
       "\n",
       "   Is_year_start  Is_year_end  Semester  Is_holiday  \n",
       "0          False        False         1       False  \n",
       "1          False        False         1       False  \n",
       "2          False        False         1       False  \n",
       "3          False        False         1        True  \n",
       "4          False        False         1       False  "
      ]
     },
     "execution_count": 17,
     "metadata": {},
     "output_type": "execute_result"
    }
   ],
   "source": [
    "train1.head() "
   ]
  },
  {
   "cell_type": "code",
   "execution_count": 18,
   "metadata": {},
   "outputs": [],
   "source": [
    "train1.drop(['application_date'], axis=1, inplace=True)\n",
    "train2.drop(['application_date'], axis=1, inplace=True)"
   ]
  },
  {
   "cell_type": "code",
   "execution_count": 19,
   "metadata": {},
   "outputs": [],
   "source": [
    "train1 = train1[train1['case_count'] > 15].reset_index(drop=True)\n",
    "train1 = train1[train1['case_count'] <= 8000].reset_index(drop=True)\n",
    "train2 = train2[(train2['case_count'] < 40000)].reset_index(drop=True)"
   ]
  },
  {
   "cell_type": "code",
   "execution_count": 20,
   "metadata": {},
   "outputs": [
    {
     "data": {
      "text/plain": [
       "((780, 16), (843, 16))"
      ]
     },
     "execution_count": 20,
     "metadata": {},
     "output_type": "execute_result"
    }
   ],
   "source": [
    "train1.shape, train2.shape"
   ]
  },
  {
   "cell_type": "markdown",
   "metadata": {},
   "source": [
    "# Train test split"
   ]
  },
  {
   "cell_type": "markdown",
   "metadata": {},
   "source": [
    "## Business Segment 1"
   ]
  },
  {
   "cell_type": "code",
   "execution_count": 21,
   "metadata": {},
   "outputs": [],
   "source": [
    "X = train1.drop(labels=['case_count'], axis=1)\n",
    "y = train1['case_count'].values\n",
    "\n",
    "from sklearn.model_selection import train_test_split\n",
    "X_train, X_cv, y_train, y_cv = train_test_split(X, y, test_size=0.25, random_state=42)"
   ]
  },
  {
   "cell_type": "code",
   "execution_count": 22,
   "metadata": {},
   "outputs": [
    {
     "data": {
      "text/plain": [
       "((585, 15), (585,), (195, 15), (195,))"
      ]
     },
     "execution_count": 22,
     "metadata": {},
     "output_type": "execute_result"
    }
   ],
   "source": [
    "X_train.shape, y_train.shape, X_cv.shape, y_cv.shape"
   ]
  },
  {
   "cell_type": "code",
   "execution_count": 23,
   "metadata": {},
   "outputs": [
    {
     "name": "stdout",
     "output_type": "stream",
     "text": [
      "MAPE: 269.4215485248144\n"
     ]
    }
   ],
   "source": [
    "from sklearn.ensemble import BaggingRegressor, RandomForestRegressor\n",
    "br = RandomForestRegressor(random_state=0)\n",
    "br.fit(X_train, y_train)\n",
    "y_pred = br.predict(X_cv)\n",
    "print('MAPE:', mean_absolute_percentage_error(y_cv, y_pred))"
   ]
  },
  {
   "cell_type": "markdown",
   "metadata": {},
   "source": [
    "## Business Segment 2"
   ]
  },
  {
   "cell_type": "code",
   "execution_count": 24,
   "metadata": {},
   "outputs": [],
   "source": [
    "X = train2.drop(labels=['case_count'], axis=1)\n",
    "y = train2['case_count'].values\n",
    "\n",
    "from sklearn.model_selection import train_test_split\n",
    "X_train, X_cv, y_train, y_cv = train_test_split(X, y, test_size=0.25, random_state=42)"
   ]
  },
  {
   "cell_type": "code",
   "execution_count": 25,
   "metadata": {},
   "outputs": [
    {
     "name": "stdout",
     "output_type": "stream",
     "text": [
      "MAPE: 24.816689416412455\n"
     ]
    }
   ],
   "source": [
    "from sklearn.ensemble import BaggingRegressor, RandomForestRegressor\n",
    "br = RandomForestRegressor(random_state=0)\n",
    "br.fit(X_train, y_train)\n",
    "y_pred = br.predict(X_cv)\n",
    "print('MAPE:', mean_absolute_percentage_error(y_cv, y_pred))"
   ]
  },
  {
   "cell_type": "markdown",
   "metadata": {},
   "source": [
    "# Predict on test set"
   ]
  },
  {
   "cell_type": "code",
   "execution_count": 26,
   "metadata": {},
   "outputs": [
    {
     "data": {
      "text/html": [
       "<div>\n",
       "<style scoped>\n",
       "    .dataframe tbody tr th:only-of-type {\n",
       "        vertical-align: middle;\n",
       "    }\n",
       "\n",
       "    .dataframe tbody tr th {\n",
       "        vertical-align: top;\n",
       "    }\n",
       "\n",
       "    .dataframe thead th {\n",
       "        text-align: right;\n",
       "    }\n",
       "</style>\n",
       "<table border=\"1\" class=\"dataframe\">\n",
       "  <thead>\n",
       "    <tr style=\"text-align: right;\">\n",
       "      <th></th>\n",
       "      <th>id</th>\n",
       "      <th>application_date</th>\n",
       "      <th>segment</th>\n",
       "    </tr>\n",
       "  </thead>\n",
       "  <tbody>\n",
       "    <tr>\n",
       "      <th>0</th>\n",
       "      <td>1</td>\n",
       "      <td>2019-07-06</td>\n",
       "      <td>1</td>\n",
       "    </tr>\n",
       "    <tr>\n",
       "      <th>1</th>\n",
       "      <td>2</td>\n",
       "      <td>2019-07-07</td>\n",
       "      <td>1</td>\n",
       "    </tr>\n",
       "  </tbody>\n",
       "</table>\n",
       "</div>"
      ],
      "text/plain": [
       "   id application_date  segment\n",
       "0   1       2019-07-06        1\n",
       "1   2       2019-07-07        1"
      ]
     },
     "execution_count": 26,
     "metadata": {},
     "output_type": "execute_result"
    }
   ],
   "source": [
    "test.head(2)"
   ]
  },
  {
   "cell_type": "code",
   "execution_count": 27,
   "metadata": {},
   "outputs": [],
   "source": [
    "test1 = test[test['segment'] == 1][['application_date']].sort_values('application_date')\n",
    "test2 = test[test['segment'] == 2][['application_date']].sort_values('application_date')"
   ]
  },
  {
   "cell_type": "code",
   "execution_count": 28,
   "metadata": {},
   "outputs": [],
   "source": [
    "test1 = create_date_featues(test1)\n",
    "test2 = create_date_featues(test2)"
   ]
  },
  {
   "cell_type": "code",
   "execution_count": 29,
   "metadata": {},
   "outputs": [],
   "source": [
    "test1['Is_holiday'] = test1['application_date'].isin(hol)\n",
    "test2['Is_holiday'] = test2['application_date'].isin(hol)"
   ]
  },
  {
   "cell_type": "code",
   "execution_count": 30,
   "metadata": {},
   "outputs": [],
   "source": [
    "test1.drop(['application_date'], axis=1, inplace=True)\n",
    "test2.drop(['application_date'], axis=1, inplace=True)"
   ]
  },
  {
   "cell_type": "code",
   "execution_count": 31,
   "metadata": {},
   "outputs": [
    {
     "data": {
      "text/plain": [
       "((87, 15), (93, 15))"
      ]
     },
     "execution_count": 31,
     "metadata": {},
     "output_type": "execute_result"
    }
   ],
   "source": [
    "test1.shape, test2.shape"
   ]
  },
  {
   "cell_type": "markdown",
   "metadata": {},
   "source": [
    "## Business Segment 1"
   ]
  },
  {
   "cell_type": "code",
   "execution_count": 32,
   "metadata": {},
   "outputs": [],
   "source": [
    "X = train1.drop(labels=['case_count'], axis=1)\n",
    "y = train1['case_count'].values\n",
    "Xtest = test1"
   ]
  },
  {
   "cell_type": "code",
   "execution_count": 33,
   "metadata": {},
   "outputs": [
    {
     "data": {
      "text/html": [
       "<div>\n",
       "<style scoped>\n",
       "    .dataframe tbody tr th:only-of-type {\n",
       "        vertical-align: middle;\n",
       "    }\n",
       "\n",
       "    .dataframe tbody tr th {\n",
       "        vertical-align: top;\n",
       "    }\n",
       "\n",
       "    .dataframe thead th {\n",
       "        text-align: right;\n",
       "    }\n",
       "</style>\n",
       "<table border=\"1\" class=\"dataframe\">\n",
       "  <thead>\n",
       "    <tr style=\"text-align: right;\">\n",
       "      <th></th>\n",
       "      <th>Year</th>\n",
       "      <th>Month</th>\n",
       "      <th>Day</th>\n",
       "      <th>Dayofweek</th>\n",
       "      <th>DayOfyear</th>\n",
       "      <th>Week</th>\n",
       "      <th>Quarter</th>\n",
       "      <th>Is_month_start</th>\n",
       "      <th>Is_month_end</th>\n",
       "      <th>Is_quarter_start</th>\n",
       "      <th>Is_quarter_end</th>\n",
       "      <th>Is_year_start</th>\n",
       "      <th>Is_year_end</th>\n",
       "      <th>Semester</th>\n",
       "      <th>Is_holiday</th>\n",
       "    </tr>\n",
       "  </thead>\n",
       "  <tbody>\n",
       "    <tr>\n",
       "      <th>0</th>\n",
       "      <td>2017</td>\n",
       "      <td>4</td>\n",
       "      <td>1</td>\n",
       "      <td>5</td>\n",
       "      <td>91</td>\n",
       "      <td>13</td>\n",
       "      <td>2</td>\n",
       "      <td>True</td>\n",
       "      <td>False</td>\n",
       "      <td>True</td>\n",
       "      <td>False</td>\n",
       "      <td>False</td>\n",
       "      <td>False</td>\n",
       "      <td>1</td>\n",
       "      <td>False</td>\n",
       "    </tr>\n",
       "    <tr>\n",
       "      <th>1</th>\n",
       "      <td>2017</td>\n",
       "      <td>4</td>\n",
       "      <td>3</td>\n",
       "      <td>0</td>\n",
       "      <td>93</td>\n",
       "      <td>14</td>\n",
       "      <td>2</td>\n",
       "      <td>False</td>\n",
       "      <td>False</td>\n",
       "      <td>False</td>\n",
       "      <td>False</td>\n",
       "      <td>False</td>\n",
       "      <td>False</td>\n",
       "      <td>1</td>\n",
       "      <td>False</td>\n",
       "    </tr>\n",
       "    <tr>\n",
       "      <th>2</th>\n",
       "      <td>2017</td>\n",
       "      <td>4</td>\n",
       "      <td>4</td>\n",
       "      <td>1</td>\n",
       "      <td>94</td>\n",
       "      <td>14</td>\n",
       "      <td>2</td>\n",
       "      <td>False</td>\n",
       "      <td>False</td>\n",
       "      <td>False</td>\n",
       "      <td>False</td>\n",
       "      <td>False</td>\n",
       "      <td>False</td>\n",
       "      <td>1</td>\n",
       "      <td>False</td>\n",
       "    </tr>\n",
       "    <tr>\n",
       "      <th>3</th>\n",
       "      <td>2017</td>\n",
       "      <td>4</td>\n",
       "      <td>5</td>\n",
       "      <td>2</td>\n",
       "      <td>95</td>\n",
       "      <td>14</td>\n",
       "      <td>2</td>\n",
       "      <td>False</td>\n",
       "      <td>False</td>\n",
       "      <td>False</td>\n",
       "      <td>False</td>\n",
       "      <td>False</td>\n",
       "      <td>False</td>\n",
       "      <td>1</td>\n",
       "      <td>True</td>\n",
       "    </tr>\n",
       "    <tr>\n",
       "      <th>4</th>\n",
       "      <td>2017</td>\n",
       "      <td>4</td>\n",
       "      <td>7</td>\n",
       "      <td>4</td>\n",
       "      <td>97</td>\n",
       "      <td>14</td>\n",
       "      <td>2</td>\n",
       "      <td>False</td>\n",
       "      <td>False</td>\n",
       "      <td>False</td>\n",
       "      <td>False</td>\n",
       "      <td>False</td>\n",
       "      <td>False</td>\n",
       "      <td>1</td>\n",
       "      <td>False</td>\n",
       "    </tr>\n",
       "  </tbody>\n",
       "</table>\n",
       "</div>"
      ],
      "text/plain": [
       "   Year  Month  Day  Dayofweek  DayOfyear  Week  Quarter  Is_month_start  \\\n",
       "0  2017      4    1          5         91    13        2            True   \n",
       "1  2017      4    3          0         93    14        2           False   \n",
       "2  2017      4    4          1         94    14        2           False   \n",
       "3  2017      4    5          2         95    14        2           False   \n",
       "4  2017      4    7          4         97    14        2           False   \n",
       "\n",
       "   Is_month_end  Is_quarter_start  Is_quarter_end  Is_year_start  Is_year_end  \\\n",
       "0         False              True           False          False        False   \n",
       "1         False             False           False          False        False   \n",
       "2         False             False           False          False        False   \n",
       "3         False             False           False          False        False   \n",
       "4         False             False           False          False        False   \n",
       "\n",
       "   Semester  Is_holiday  \n",
       "0         1       False  \n",
       "1         1       False  \n",
       "2         1       False  \n",
       "3         1        True  \n",
       "4         1       False  "
      ]
     },
     "execution_count": 33,
     "metadata": {},
     "output_type": "execute_result"
    }
   ],
   "source": [
    "X.head()"
   ]
  },
  {
   "cell_type": "code",
   "execution_count": 34,
   "metadata": {},
   "outputs": [
    {
     "data": {
      "text/plain": [
       "((780, 15), (780,), (87, 15))"
      ]
     },
     "execution_count": 34,
     "metadata": {},
     "output_type": "execute_result"
    }
   ],
   "source": [
    "X.shape, y.shape, Xtest.shape"
   ]
  },
  {
   "cell_type": "code",
   "execution_count": 35,
   "metadata": {},
   "outputs": [
    {
     "name": "stdout",
     "output_type": "stream",
     "text": [
      "MAPE:  139.54380281136295\n",
      "MAPE:  63.72317459152785\n",
      "MAPE:  99.15529425939245\n",
      "MAPE:  319.77299482206337\n",
      "MAPE:  85.00920604337232\n",
      "MAPE:  86.23510678516502\n",
      "MAPE:  83.43339071301497\n",
      "MAPE:  74.88667657936216\n",
      "MAPE:  19.966421459030265\n",
      "MAPE:  124.8798726368101\n",
      "MAPE:  88.32137219955723\n",
      "MAPE:  31.853323886266754\n",
      "MAPE:  55.127378214518885\n",
      "MAPE:  222.9748798138905\n",
      "MAPE:  128.00161862212966\n"
     ]
    }
   ],
   "source": [
    "from sklearn.model_selection import KFold\n",
    "from sklearn.ensemble import BaggingRegressor, RandomForestRegressor\n",
    "\n",
    "rs = 101\n",
    "errlgb = []\n",
    "y_pred_totlgb = []\n",
    "\n",
    "fold = KFold(n_splits=15, shuffle=True, random_state=rs)\n",
    "\n",
    "for train_index, test_index in fold.split(X):\n",
    "    X_train, X_test = X.loc[train_index], X.loc[test_index]\n",
    "    y_train, y_test = y[train_index], y[test_index]\n",
    "    #br = RandomForestRegressor(random_state=rs)\n",
    "    br = BaggingRegressor(n_estimators=10, random_state=1)\n",
    "    br.fit(X_train, y_train)\n",
    "    y_pred = br.predict(X_test)\n",
    "    print(\"MAPE: \", mean_absolute_percentage_error(y_test, y_pred))\n",
    "    errlgb.append(mean_absolute_percentage_error(y_test, y_pred))\n",
    "    p = br.predict(Xtest)    \n",
    "    y_pred_totlgb.append(p)"
   ]
  },
  {
   "cell_type": "code",
   "execution_count": 36,
   "metadata": {},
   "outputs": [
    {
     "data": {
      "text/plain": [
       "108.19230089583097"
      ]
     },
     "execution_count": 36,
     "metadata": {},
     "output_type": "execute_result"
    }
   ],
   "source": [
    "np.mean(errlgb)"
   ]
  },
  {
   "cell_type": "code",
   "execution_count": 37,
   "metadata": {},
   "outputs": [
    {
     "data": {
      "text/html": [
       "<div>\n",
       "<style scoped>\n",
       "    .dataframe tbody tr th:only-of-type {\n",
       "        vertical-align: middle;\n",
       "    }\n",
       "\n",
       "    .dataframe tbody tr th {\n",
       "        vertical-align: top;\n",
       "    }\n",
       "\n",
       "    .dataframe thead th {\n",
       "        text-align: right;\n",
       "    }\n",
       "</style>\n",
       "<table border=\"1\" class=\"dataframe\">\n",
       "  <thead>\n",
       "    <tr style=\"text-align: right;\">\n",
       "      <th></th>\n",
       "      <th>Year</th>\n",
       "      <th>Month</th>\n",
       "      <th>Day</th>\n",
       "      <th>Dayofweek</th>\n",
       "      <th>DayOfyear</th>\n",
       "      <th>Week</th>\n",
       "      <th>Quarter</th>\n",
       "      <th>Is_month_start</th>\n",
       "      <th>Is_month_end</th>\n",
       "      <th>Is_quarter_start</th>\n",
       "      <th>Is_quarter_end</th>\n",
       "      <th>Is_year_start</th>\n",
       "      <th>Is_year_end</th>\n",
       "      <th>Semester</th>\n",
       "      <th>Is_holiday</th>\n",
       "      <th>case_count</th>\n",
       "    </tr>\n",
       "  </thead>\n",
       "  <tbody>\n",
       "    <tr>\n",
       "      <th>0</th>\n",
       "      <td>2019</td>\n",
       "      <td>7</td>\n",
       "      <td>6</td>\n",
       "      <td>5</td>\n",
       "      <td>187</td>\n",
       "      <td>27</td>\n",
       "      <td>3</td>\n",
       "      <td>False</td>\n",
       "      <td>False</td>\n",
       "      <td>False</td>\n",
       "      <td>False</td>\n",
       "      <td>False</td>\n",
       "      <td>False</td>\n",
       "      <td>2</td>\n",
       "      <td>False</td>\n",
       "      <td>2856.900000</td>\n",
       "    </tr>\n",
       "    <tr>\n",
       "      <th>1</th>\n",
       "      <td>2019</td>\n",
       "      <td>7</td>\n",
       "      <td>7</td>\n",
       "      <td>6</td>\n",
       "      <td>188</td>\n",
       "      <td>27</td>\n",
       "      <td>3</td>\n",
       "      <td>False</td>\n",
       "      <td>False</td>\n",
       "      <td>False</td>\n",
       "      <td>False</td>\n",
       "      <td>False</td>\n",
       "      <td>False</td>\n",
       "      <td>2</td>\n",
       "      <td>False</td>\n",
       "      <td>1746.833333</td>\n",
       "    </tr>\n",
       "    <tr>\n",
       "      <th>2</th>\n",
       "      <td>2019</td>\n",
       "      <td>7</td>\n",
       "      <td>8</td>\n",
       "      <td>0</td>\n",
       "      <td>189</td>\n",
       "      <td>28</td>\n",
       "      <td>3</td>\n",
       "      <td>False</td>\n",
       "      <td>False</td>\n",
       "      <td>False</td>\n",
       "      <td>False</td>\n",
       "      <td>False</td>\n",
       "      <td>False</td>\n",
       "      <td>2</td>\n",
       "      <td>False</td>\n",
       "      <td>4103.873333</td>\n",
       "    </tr>\n",
       "    <tr>\n",
       "      <th>3</th>\n",
       "      <td>2019</td>\n",
       "      <td>7</td>\n",
       "      <td>9</td>\n",
       "      <td>1</td>\n",
       "      <td>190</td>\n",
       "      <td>28</td>\n",
       "      <td>3</td>\n",
       "      <td>False</td>\n",
       "      <td>False</td>\n",
       "      <td>False</td>\n",
       "      <td>False</td>\n",
       "      <td>False</td>\n",
       "      <td>False</td>\n",
       "      <td>2</td>\n",
       "      <td>False</td>\n",
       "      <td>3536.120000</td>\n",
       "    </tr>\n",
       "    <tr>\n",
       "      <th>4</th>\n",
       "      <td>2019</td>\n",
       "      <td>7</td>\n",
       "      <td>10</td>\n",
       "      <td>2</td>\n",
       "      <td>191</td>\n",
       "      <td>28</td>\n",
       "      <td>3</td>\n",
       "      <td>False</td>\n",
       "      <td>False</td>\n",
       "      <td>False</td>\n",
       "      <td>False</td>\n",
       "      <td>False</td>\n",
       "      <td>False</td>\n",
       "      <td>2</td>\n",
       "      <td>False</td>\n",
       "      <td>3681.453333</td>\n",
       "    </tr>\n",
       "  </tbody>\n",
       "</table>\n",
       "</div>"
      ],
      "text/plain": [
       "   Year  Month  Day  Dayofweek  DayOfyear  Week  Quarter  Is_month_start  \\\n",
       "0  2019      7    6          5        187    27        3           False   \n",
       "1  2019      7    7          6        188    27        3           False   \n",
       "2  2019      7    8          0        189    28        3           False   \n",
       "3  2019      7    9          1        190    28        3           False   \n",
       "4  2019      7   10          2        191    28        3           False   \n",
       "\n",
       "   Is_month_end  Is_quarter_start  Is_quarter_end  Is_year_start  Is_year_end  \\\n",
       "0         False             False           False          False        False   \n",
       "1         False             False           False          False        False   \n",
       "2         False             False           False          False        False   \n",
       "3         False             False           False          False        False   \n",
       "4         False             False           False          False        False   \n",
       "\n",
       "   Semester  Is_holiday   case_count  \n",
       "0         2       False  2856.900000  \n",
       "1         2       False  1746.833333  \n",
       "2         2       False  4103.873333  \n",
       "3         2       False  3536.120000  \n",
       "4         2       False  3681.453333  "
      ]
     },
     "execution_count": 37,
     "metadata": {},
     "output_type": "execute_result"
    }
   ],
   "source": [
    "y_pred1 = np.mean(y_pred_totlgb,0)\n",
    "test1['case_count'] = y_pred1\n",
    "test1.head()"
   ]
  },
  {
   "cell_type": "code",
   "execution_count": 38,
   "metadata": {},
   "outputs": [],
   "source": [
    "test1.drop('case_count', axis=1, inplace=True)"
   ]
  },
  {
   "cell_type": "markdown",
   "metadata": {},
   "source": [
    "## Business Segment 2"
   ]
  },
  {
   "cell_type": "code",
   "execution_count": 39,
   "metadata": {},
   "outputs": [],
   "source": [
    "X = train2.drop(labels=['case_count'], axis=1)\n",
    "y = train2['case_count'].values\n",
    "Xtest = test2"
   ]
  },
  {
   "cell_type": "code",
   "execution_count": 40,
   "metadata": {},
   "outputs": [
    {
     "name": "stdout",
     "output_type": "stream",
     "text": [
      "MAPE:  28.199633374168513\n",
      "MAPE:  23.5522591623917\n",
      "MAPE:  68.09462367527296\n",
      "MAPE:  20.630346434056847\n",
      "MAPE:  23.119737125254293\n",
      "MAPE:  25.182672863971455\n",
      "MAPE:  19.43303315111579\n",
      "MAPE:  20.692230037799536\n",
      "MAPE:  20.838826500175802\n",
      "MAPE:  14.80553177926803\n",
      "MAPE:  31.87529544503569\n",
      "MAPE:  21.950667964336162\n",
      "MAPE:  18.13027824093041\n",
      "MAPE:  19.80911990219689\n",
      "MAPE:  25.75019287878\n"
     ]
    }
   ],
   "source": [
    "from sklearn.model_selection import KFold, TimeSeriesSplit\n",
    "from sklearn.ensemble import BaggingRegressor, RandomForestRegressor\n",
    "\n",
    "rs = 101\n",
    "errlgb = []\n",
    "y_pred_totlgb = []\n",
    "\n",
    "fold = KFold(n_splits=15, shuffle=True, random_state=rs)\n",
    "\n",
    "for train_index, test_index in fold.split(X):\n",
    "    X_train, X_test = X.loc[train_index], X.loc[test_index]\n",
    "    y_train, y_test = y[train_index], y[test_index]\n",
    "    #br = RandomForestRegressor(random_state=rs)\n",
    "    br = BaggingRegressor(n_estimators=10, random_state=rs)\n",
    "    br.fit(X_train, y_train)\n",
    "    y_pred = br.predict(X_test)\n",
    "    print(\"MAPE: \", mean_absolute_percentage_error(y_test, y_pred))\n",
    "    errlgb.append(mean_absolute_percentage_error(y_test, y_pred))\n",
    "    p = br.predict(Xtest)\n",
    "    y_pred_totlgb.append(p)"
   ]
  },
  {
   "cell_type": "code",
   "execution_count": 41,
   "metadata": {},
   "outputs": [
    {
     "data": {
      "text/plain": [
       "25.470963235650274"
      ]
     },
     "execution_count": 41,
     "metadata": {},
     "output_type": "execute_result"
    }
   ],
   "source": [
    "np.mean(errlgb)"
   ]
  },
  {
   "cell_type": "code",
   "execution_count": 42,
   "metadata": {},
   "outputs": [],
   "source": [
    "y_pred2 = np.mean(y_pred_totlgb,0)\n",
    "test2['case_count'] = y_pred2"
   ]
  },
  {
   "cell_type": "code",
   "execution_count": 43,
   "metadata": {},
   "outputs": [
    {
     "data": {
      "text/html": [
       "<div>\n",
       "<style scoped>\n",
       "    .dataframe tbody tr th:only-of-type {\n",
       "        vertical-align: middle;\n",
       "    }\n",
       "\n",
       "    .dataframe tbody tr th {\n",
       "        vertical-align: top;\n",
       "    }\n",
       "\n",
       "    .dataframe thead th {\n",
       "        text-align: right;\n",
       "    }\n",
       "</style>\n",
       "<table border=\"1\" class=\"dataframe\">\n",
       "  <thead>\n",
       "    <tr style=\"text-align: right;\">\n",
       "      <th></th>\n",
       "      <th>Year</th>\n",
       "      <th>Month</th>\n",
       "      <th>Day</th>\n",
       "      <th>Dayofweek</th>\n",
       "      <th>DayOfyear</th>\n",
       "      <th>Week</th>\n",
       "      <th>Quarter</th>\n",
       "      <th>Is_month_start</th>\n",
       "      <th>Is_month_end</th>\n",
       "      <th>Is_quarter_start</th>\n",
       "      <th>Is_quarter_end</th>\n",
       "      <th>Is_year_start</th>\n",
       "      <th>Is_year_end</th>\n",
       "      <th>Semester</th>\n",
       "      <th>Is_holiday</th>\n",
       "      <th>case_count</th>\n",
       "    </tr>\n",
       "  </thead>\n",
       "  <tbody>\n",
       "    <tr>\n",
       "      <th>175</th>\n",
       "      <td>2019</td>\n",
       "      <td>10</td>\n",
       "      <td>20</td>\n",
       "      <td>6</td>\n",
       "      <td>293</td>\n",
       "      <td>42</td>\n",
       "      <td>4</td>\n",
       "      <td>False</td>\n",
       "      <td>False</td>\n",
       "      <td>False</td>\n",
       "      <td>False</td>\n",
       "      <td>False</td>\n",
       "      <td>False</td>\n",
       "      <td>2</td>\n",
       "      <td>False</td>\n",
       "      <td>16146.993333</td>\n",
       "    </tr>\n",
       "    <tr>\n",
       "      <th>176</th>\n",
       "      <td>2019</td>\n",
       "      <td>10</td>\n",
       "      <td>21</td>\n",
       "      <td>0</td>\n",
       "      <td>294</td>\n",
       "      <td>43</td>\n",
       "      <td>4</td>\n",
       "      <td>False</td>\n",
       "      <td>False</td>\n",
       "      <td>False</td>\n",
       "      <td>False</td>\n",
       "      <td>False</td>\n",
       "      <td>False</td>\n",
       "      <td>2</td>\n",
       "      <td>False</td>\n",
       "      <td>23640.100000</td>\n",
       "    </tr>\n",
       "    <tr>\n",
       "      <th>177</th>\n",
       "      <td>2019</td>\n",
       "      <td>10</td>\n",
       "      <td>22</td>\n",
       "      <td>1</td>\n",
       "      <td>295</td>\n",
       "      <td>43</td>\n",
       "      <td>4</td>\n",
       "      <td>False</td>\n",
       "      <td>False</td>\n",
       "      <td>False</td>\n",
       "      <td>False</td>\n",
       "      <td>False</td>\n",
       "      <td>False</td>\n",
       "      <td>2</td>\n",
       "      <td>False</td>\n",
       "      <td>26812.140000</td>\n",
       "    </tr>\n",
       "    <tr>\n",
       "      <th>178</th>\n",
       "      <td>2019</td>\n",
       "      <td>10</td>\n",
       "      <td>23</td>\n",
       "      <td>2</td>\n",
       "      <td>296</td>\n",
       "      <td>43</td>\n",
       "      <td>4</td>\n",
       "      <td>False</td>\n",
       "      <td>False</td>\n",
       "      <td>False</td>\n",
       "      <td>False</td>\n",
       "      <td>False</td>\n",
       "      <td>False</td>\n",
       "      <td>2</td>\n",
       "      <td>False</td>\n",
       "      <td>28211.240000</td>\n",
       "    </tr>\n",
       "    <tr>\n",
       "      <th>179</th>\n",
       "      <td>2019</td>\n",
       "      <td>10</td>\n",
       "      <td>24</td>\n",
       "      <td>3</td>\n",
       "      <td>297</td>\n",
       "      <td>43</td>\n",
       "      <td>4</td>\n",
       "      <td>False</td>\n",
       "      <td>False</td>\n",
       "      <td>False</td>\n",
       "      <td>False</td>\n",
       "      <td>False</td>\n",
       "      <td>False</td>\n",
       "      <td>2</td>\n",
       "      <td>False</td>\n",
       "      <td>28125.320000</td>\n",
       "    </tr>\n",
       "  </tbody>\n",
       "</table>\n",
       "</div>"
      ],
      "text/plain": [
       "     Year  Month  Day  Dayofweek  DayOfyear  Week  Quarter  Is_month_start  \\\n",
       "175  2019     10   20          6        293    42        4           False   \n",
       "176  2019     10   21          0        294    43        4           False   \n",
       "177  2019     10   22          1        295    43        4           False   \n",
       "178  2019     10   23          2        296    43        4           False   \n",
       "179  2019     10   24          3        297    43        4           False   \n",
       "\n",
       "     Is_month_end  Is_quarter_start  Is_quarter_end  Is_year_start  \\\n",
       "175         False             False           False          False   \n",
       "176         False             False           False          False   \n",
       "177         False             False           False          False   \n",
       "178         False             False           False          False   \n",
       "179         False             False           False          False   \n",
       "\n",
       "     Is_year_end  Semester  Is_holiday    case_count  \n",
       "175        False         2       False  16146.993333  \n",
       "176        False         2       False  23640.100000  \n",
       "177        False         2       False  26812.140000  \n",
       "178        False         2       False  28211.240000  \n",
       "179        False         2       False  28125.320000  "
      ]
     },
     "execution_count": 43,
     "metadata": {},
     "output_type": "execute_result"
    }
   ],
   "source": [
    "test2.tail()"
   ]
  },
  {
   "cell_type": "markdown",
   "metadata": {},
   "source": [
    "# Submission"
   ]
  },
  {
   "cell_type": "code",
   "execution_count": 44,
   "metadata": {},
   "outputs": [
    {
     "data": {
      "text/plain": [
       "(87, 93)"
      ]
     },
     "execution_count": 44,
     "metadata": {},
     "output_type": "execute_result"
    }
   ],
   "source": [
    "len(y_pred1), len(y_pred2)"
   ]
  },
  {
   "cell_type": "code",
   "execution_count": 45,
   "metadata": {},
   "outputs": [],
   "source": [
    "y_pred = np.concatenate((y_pred1, y_pred2))"
   ]
  },
  {
   "cell_type": "code",
   "execution_count": 46,
   "metadata": {},
   "outputs": [],
   "source": [
    "test['case_count'] = y_pred"
   ]
  },
  {
   "cell_type": "code",
   "execution_count": 47,
   "metadata": {},
   "outputs": [],
   "source": [
    "test.to_csv('Output.csv', index=False)"
   ]
  },
  {
   "cell_type": "code",
   "execution_count": 48,
   "metadata": {},
   "outputs": [
    {
     "data": {
      "text/html": [
       "<div>\n",
       "<style scoped>\n",
       "    .dataframe tbody tr th:only-of-type {\n",
       "        vertical-align: middle;\n",
       "    }\n",
       "\n",
       "    .dataframe tbody tr th {\n",
       "        vertical-align: top;\n",
       "    }\n",
       "\n",
       "    .dataframe thead th {\n",
       "        text-align: right;\n",
       "    }\n",
       "</style>\n",
       "<table border=\"1\" class=\"dataframe\">\n",
       "  <thead>\n",
       "    <tr style=\"text-align: right;\">\n",
       "      <th></th>\n",
       "      <th>id</th>\n",
       "      <th>application_date</th>\n",
       "      <th>segment</th>\n",
       "      <th>case_count</th>\n",
       "    </tr>\n",
       "  </thead>\n",
       "  <tbody>\n",
       "    <tr>\n",
       "      <th>0</th>\n",
       "      <td>1</td>\n",
       "      <td>2019-07-06</td>\n",
       "      <td>1</td>\n",
       "      <td>2856.900000</td>\n",
       "    </tr>\n",
       "    <tr>\n",
       "      <th>1</th>\n",
       "      <td>2</td>\n",
       "      <td>2019-07-07</td>\n",
       "      <td>1</td>\n",
       "      <td>1746.833333</td>\n",
       "    </tr>\n",
       "    <tr>\n",
       "      <th>2</th>\n",
       "      <td>3</td>\n",
       "      <td>2019-07-08</td>\n",
       "      <td>1</td>\n",
       "      <td>4103.873333</td>\n",
       "    </tr>\n",
       "    <tr>\n",
       "      <th>3</th>\n",
       "      <td>4</td>\n",
       "      <td>2019-07-09</td>\n",
       "      <td>1</td>\n",
       "      <td>3536.120000</td>\n",
       "    </tr>\n",
       "    <tr>\n",
       "      <th>4</th>\n",
       "      <td>5</td>\n",
       "      <td>2019-07-10</td>\n",
       "      <td>1</td>\n",
       "      <td>3681.453333</td>\n",
       "    </tr>\n",
       "    <tr>\n",
       "      <th>5</th>\n",
       "      <td>6</td>\n",
       "      <td>2019-07-11</td>\n",
       "      <td>1</td>\n",
       "      <td>3654.306667</td>\n",
       "    </tr>\n",
       "    <tr>\n",
       "      <th>6</th>\n",
       "      <td>7</td>\n",
       "      <td>2019-07-12</td>\n",
       "      <td>1</td>\n",
       "      <td>3660.973333</td>\n",
       "    </tr>\n",
       "    <tr>\n",
       "      <th>7</th>\n",
       "      <td>8</td>\n",
       "      <td>2019-07-13</td>\n",
       "      <td>1</td>\n",
       "      <td>2791.260000</td>\n",
       "    </tr>\n",
       "    <tr>\n",
       "      <th>8</th>\n",
       "      <td>9</td>\n",
       "      <td>2019-07-14</td>\n",
       "      <td>1</td>\n",
       "      <td>1746.260000</td>\n",
       "    </tr>\n",
       "    <tr>\n",
       "      <th>9</th>\n",
       "      <td>10</td>\n",
       "      <td>2019-07-15</td>\n",
       "      <td>1</td>\n",
       "      <td>3912.826667</td>\n",
       "    </tr>\n",
       "    <tr>\n",
       "      <th>10</th>\n",
       "      <td>11</td>\n",
       "      <td>2019-07-16</td>\n",
       "      <td>1</td>\n",
       "      <td>3455.740000</td>\n",
       "    </tr>\n",
       "    <tr>\n",
       "      <th>11</th>\n",
       "      <td>12</td>\n",
       "      <td>2019-07-17</td>\n",
       "      <td>1</td>\n",
       "      <td>3646.966667</td>\n",
       "    </tr>\n",
       "    <tr>\n",
       "      <th>12</th>\n",
       "      <td>13</td>\n",
       "      <td>2019-07-18</td>\n",
       "      <td>1</td>\n",
       "      <td>3587.446667</td>\n",
       "    </tr>\n",
       "    <tr>\n",
       "      <th>13</th>\n",
       "      <td>14</td>\n",
       "      <td>2019-07-19</td>\n",
       "      <td>1</td>\n",
       "      <td>3558.486667</td>\n",
       "    </tr>\n",
       "    <tr>\n",
       "      <th>14</th>\n",
       "      <td>15</td>\n",
       "      <td>2019-07-20</td>\n",
       "      <td>1</td>\n",
       "      <td>2498.533333</td>\n",
       "    </tr>\n",
       "  </tbody>\n",
       "</table>\n",
       "</div>"
      ],
      "text/plain": [
       "    id application_date  segment   case_count\n",
       "0    1       2019-07-06        1  2856.900000\n",
       "1    2       2019-07-07        1  1746.833333\n",
       "2    3       2019-07-08        1  4103.873333\n",
       "3    4       2019-07-09        1  3536.120000\n",
       "4    5       2019-07-10        1  3681.453333\n",
       "5    6       2019-07-11        1  3654.306667\n",
       "6    7       2019-07-12        1  3660.973333\n",
       "7    8       2019-07-13        1  2791.260000\n",
       "8    9       2019-07-14        1  1746.260000\n",
       "9   10       2019-07-15        1  3912.826667\n",
       "10  11       2019-07-16        1  3455.740000\n",
       "11  12       2019-07-17        1  3646.966667\n",
       "12  13       2019-07-18        1  3587.446667\n",
       "13  14       2019-07-19        1  3558.486667\n",
       "14  15       2019-07-20        1  2498.533333"
      ]
     },
     "execution_count": 48,
     "metadata": {},
     "output_type": "execute_result"
    }
   ],
   "source": [
    "test.head(15)"
   ]
  },
  {
   "cell_type": "code",
   "execution_count": 49,
   "metadata": {},
   "outputs": [
    {
     "data": {
      "text/html": [
       "<a download=\"submission.csv\" href=\"data:text/csv;base64,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\" target=\"_blank\">Download CSV file</a>"
      ],
      "text/plain": [
       "<IPython.core.display.HTML object>"
      ]
     },
     "execution_count": 49,
     "metadata": {},
     "output_type": "execute_result"
    }
   ],
   "source": [
    "from IPython.display import HTML\n",
    "import pandas as pd\n",
    "import numpy as np\n",
    "import base64\n",
    "\n",
    "def create_download_link(df, title = \"Download CSV file\", filename = \"submission.csv\"):  \n",
    "    csv = df.to_csv(index=False)\n",
    "    b64 = base64.b64encode(csv.encode())\n",
    "    payload = b64.decode()\n",
    "    html = '<a download=\"{filename}\" href=\"data:text/csv;base64,{payload}\" target=\"_blank\">{title}</a>'\n",
    "    html = html.format(payload=payload,title=title,filename=filename)\n",
    "    return HTML(html)\n",
    "\n",
    "create_download_link(test)"
   ]
  }
 ],
 "metadata": {
  "kernelspec": {
   "display_name": "Python 3",
   "language": "python",
   "name": "python3"
  },
  "language_info": {
   "codemirror_mode": {
    "name": "ipython",
    "version": 3
   },
   "file_extension": ".py",
   "mimetype": "text/x-python",
   "name": "python",
   "nbconvert_exporter": "python",
   "pygments_lexer": "ipython3",
   "version": "3.7.4"
  },
  "toc": {
   "base_numbering": 1,
   "nav_menu": {},
   "number_sections": false,
   "sideBar": true,
   "skip_h1_title": false,
   "title_cell": "Table of Contents",
   "title_sidebar": "Contents",
   "toc_cell": false,
   "toc_position": {
    "height": "calc(100% - 180px)",
    "left": "10px",
    "top": "150px",
    "width": "307.2px"
   },
   "toc_section_display": true,
   "toc_window_display": true
  }
 },
 "nbformat": 4,
 "nbformat_minor": 1
}
