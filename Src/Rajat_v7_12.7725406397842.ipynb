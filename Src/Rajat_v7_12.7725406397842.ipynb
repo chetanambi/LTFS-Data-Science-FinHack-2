{
 "cells": [
  {
   "cell_type": "code",
   "execution_count": 1,
   "metadata": {},
   "outputs": [
    {
     "name": "stdout",
     "output_type": "stream",
     "text": [
      "/kaggle/input/ltfs-2020/train_fwYjLYX.csv\n",
      "/kaggle/input/ltfs-2020/test_1eLl9Yf.csv\n",
      "/kaggle/input/ltfs-2020/sample_submission_IIzFVsf.csv\n"
     ]
    }
   ],
   "source": [
    "import numpy as np # linear algebra\n",
    "import pandas as pd # data processing, CSV file I/O (e.g. pd.read_csv)\n",
    "import pandas\n",
    "import matplotlib.pyplot as plt\n",
    "%matplotlib inline\n",
    "import os\n",
    "for dirname, _, filenames in os.walk('/kaggle/input'):\n",
    "    for filename in filenames:\n",
    "        print(os.path.join(dirname, filename))"
   ]
  },
  {
   "cell_type": "code",
   "execution_count": null,
   "metadata": {},
   "outputs": [],
   "source": []
  },
  {
   "cell_type": "code",
   "execution_count": 2,
   "metadata": {},
   "outputs": [],
   "source": [
    "train=pd.read_csv('/kaggle/input/ltfs-2020/train_fwYjLYX.csv')\n",
    "test=pd.read_csv('/kaggle/input/ltfs-2020/test_1eLl9Yf.csv')\n",
    "import numpy as np\n",
    "\n",
    "def mean_absolute_percentage_error(y_true, y_pred): \n",
    "    y_true, y_pred = np.array(y_true), np.array(y_pred)\n",
    "    return np.mean(np.abs((y_true - y_pred) / y_true)) * 100"
   ]
  },
  {
   "cell_type": "code",
   "execution_count": 3,
   "metadata": {},
   "outputs": [
    {
     "data": {
      "text/html": [
       "<div>\n",
       "<style scoped>\n",
       "    .dataframe tbody tr th:only-of-type {\n",
       "        vertical-align: middle;\n",
       "    }\n",
       "\n",
       "    .dataframe tbody tr th {\n",
       "        vertical-align: top;\n",
       "    }\n",
       "\n",
       "    .dataframe thead th {\n",
       "        text-align: right;\n",
       "    }\n",
       "</style>\n",
       "<table border=\"1\" class=\"dataframe\">\n",
       "  <thead>\n",
       "    <tr style=\"text-align: right;\">\n",
       "      <th></th>\n",
       "      <th>application_date</th>\n",
       "      <th>segment</th>\n",
       "      <th>branch_id</th>\n",
       "      <th>state</th>\n",
       "      <th>zone</th>\n",
       "      <th>case_count</th>\n",
       "    </tr>\n",
       "  </thead>\n",
       "  <tbody>\n",
       "    <tr>\n",
       "      <th>0</th>\n",
       "      <td>2017-04-01</td>\n",
       "      <td>1</td>\n",
       "      <td>1.0</td>\n",
       "      <td>WEST BENGAL</td>\n",
       "      <td>EAST</td>\n",
       "      <td>40.0</td>\n",
       "    </tr>\n",
       "    <tr>\n",
       "      <th>1</th>\n",
       "      <td>2017-04-03</td>\n",
       "      <td>1</td>\n",
       "      <td>1.0</td>\n",
       "      <td>WEST BENGAL</td>\n",
       "      <td>EAST</td>\n",
       "      <td>5.0</td>\n",
       "    </tr>\n",
       "    <tr>\n",
       "      <th>2</th>\n",
       "      <td>2017-04-04</td>\n",
       "      <td>1</td>\n",
       "      <td>1.0</td>\n",
       "      <td>WEST BENGAL</td>\n",
       "      <td>EAST</td>\n",
       "      <td>4.0</td>\n",
       "    </tr>\n",
       "    <tr>\n",
       "      <th>3</th>\n",
       "      <td>2017-04-05</td>\n",
       "      <td>1</td>\n",
       "      <td>1.0</td>\n",
       "      <td>WEST BENGAL</td>\n",
       "      <td>EAST</td>\n",
       "      <td>113.0</td>\n",
       "    </tr>\n",
       "    <tr>\n",
       "      <th>4</th>\n",
       "      <td>2017-04-07</td>\n",
       "      <td>1</td>\n",
       "      <td>1.0</td>\n",
       "      <td>WEST BENGAL</td>\n",
       "      <td>EAST</td>\n",
       "      <td>76.0</td>\n",
       "    </tr>\n",
       "  </tbody>\n",
       "</table>\n",
       "</div>"
      ],
      "text/plain": [
       "  application_date  segment  branch_id        state  zone  case_count\n",
       "0       2017-04-01        1        1.0  WEST BENGAL  EAST        40.0\n",
       "1       2017-04-03        1        1.0  WEST BENGAL  EAST         5.0\n",
       "2       2017-04-04        1        1.0  WEST BENGAL  EAST         4.0\n",
       "3       2017-04-05        1        1.0  WEST BENGAL  EAST       113.0\n",
       "4       2017-04-07        1        1.0  WEST BENGAL  EAST        76.0"
      ]
     },
     "execution_count": 3,
     "metadata": {},
     "output_type": "execute_result"
    }
   ],
   "source": [
    "train.head()"
   ]
  },
  {
   "cell_type": "code",
   "execution_count": null,
   "metadata": {},
   "outputs": [],
   "source": []
  },
  {
   "cell_type": "code",
   "execution_count": 4,
   "metadata": {},
   "outputs": [],
   "source": [
    "train['application_date']=pd.to_datetime(train['application_date'],format='%Y-%m-%d')\n",
    "test['application_date']=pd.to_datetime(test['application_date'],format='%Y-%m-%d')"
   ]
  },
  {
   "cell_type": "code",
   "execution_count": 5,
   "metadata": {},
   "outputs": [],
   "source": [
    "train_s1=train[train['segment']==1].groupby(['application_date']).sum().reset_index()[['application_date','case_count']].sort_values('application_date')\n",
    "train_s2=train[train['segment']==2].groupby(['application_date']).sum().reset_index()[['application_date','case_count']].sort_values('application_date')\n",
    "test_s1=test[test['segment']==1][['application_date']].sort_values('application_date')\n",
    "test_s2=test[test['segment']==2][['application_date']].sort_values('application_date')"
   ]
  },
  {
   "cell_type": "code",
   "execution_count": 6,
   "metadata": {},
   "outputs": [
    {
     "name": "stdout",
     "output_type": "stream",
     "text": [
      "2017-01-14 Makar Sankranti / Pongal\n",
      "2017-01-26 Republic Day\n",
      "2017-05-01 Labour Day\n",
      "2017-08-15 Independence Day\n",
      "2017-10-02 Gandhi Jayanti\n",
      "2017-12-25 Christmas\n",
      "2018-01-14 Makar Sankranti / Pongal\n",
      "2018-01-26 Republic Day\n",
      "2018-05-01 Labour Day\n",
      "2018-08-15 Independence Day\n",
      "2018-10-02 Gandhi Jayanti\n",
      "2018-12-25 Christmas\n",
      "2019-01-14 Makar Sankranti / Pongal\n",
      "2019-01-26 Republic Day\n",
      "2019-05-01 Labour Day\n",
      "2019-08-15 Independence Day\n",
      "2019-10-02 Gandhi Jayanti\n",
      "2019-12-25 Christmas\n"
     ]
    },
    {
     "data": {
      "text/plain": [
       "['2017-02-24',\n",
       " '2017-03-13',\n",
       " '2017-03-28',\n",
       " '2017-04-05',\n",
       " '2017-04-09',\n",
       " '2017-04-14',\n",
       " '2017-05-10',\n",
       " '2017-06-25',\n",
       " '2017-06-26',\n",
       " '2017-08-07',\n",
       " '2017-09-30',\n",
       " '2017-10-02',\n",
       " '2017-10-19',\n",
       " '2018-02-24',\n",
       " '2018-03-13',\n",
       " '2018-03-28',\n",
       " '2018-04-05',\n",
       " '2018-04-09',\n",
       " '2018-04-14',\n",
       " '2018-05-10',\n",
       " '2018-06-25',\n",
       " '2018-06-26',\n",
       " '2018-08-07',\n",
       " '2018-09-30',\n",
       " '2018-10-02',\n",
       " '2018-10-19',\n",
       " '2019-02-24',\n",
       " '2019-03-13',\n",
       " '2019-03-28',\n",
       " '2019-04-05',\n",
       " '2019-04-09',\n",
       " '2019-04-14',\n",
       " '2019-05-10',\n",
       " '2019-06-25',\n",
       " '2019-06-26',\n",
       " '2019-08-07',\n",
       " '2019-09-30',\n",
       " '2019-10-02',\n",
       " '2019-10-19',\n",
       " '2017-01-14',\n",
       " '2017-01-26',\n",
       " '2017-05-01',\n",
       " '2017-08-15',\n",
       " '2017-10-02',\n",
       " '2017-12-25',\n",
       " '2018-01-14',\n",
       " '2018-01-26',\n",
       " '2018-05-01',\n",
       " '2018-08-15',\n",
       " '2018-10-02',\n",
       " '2018-12-25',\n",
       " '2019-01-14',\n",
       " '2019-01-26',\n",
       " '2019-05-01',\n",
       " '2019-08-15',\n",
       " '2019-10-02',\n",
       " '2019-12-25']"
      ]
     },
     "execution_count": 6,
     "metadata": {},
     "output_type": "execute_result"
    }
   ],
   "source": [
    "hol=['2017-02-24','2017-03-13','2017-03-28','2017-04-05','2017-04-09','2017-04-14','2017-05-10','2017-06-25'\n",
    ",'2017-06-26','2017-08-07','2017-09-30','2017-10-02','2017-10-19','2018-02-24','2018-03-13','2018-03-28','2018-04-05','2018-04-09','2018-04-14','2018-05-10','2018-06-25',\n",
    "'2018-06-26','2018-08-07','2018-09-30','2018-10-02','2018-10-19','2019-02-24','2019-03-13','2019-03-28','2019-04-05','2019-04-09','2019-04-14','2019-05-10','2019-06-25',\n",
    "'2019-06-26','2019-08-07','2019-09-30','2019-10-02','2019-10-19']\n",
    "\n",
    "import holidays\n",
    "ind_holidays = holidays.IND(years=[2017,2018,2019])\n",
    "\n",
    "from datetime import date\n",
    "# hol=[]\n",
    "for date, name in sorted(ind_holidays.items()):\n",
    "    print(str(date),name)\n",
    "    hol.append(str(date))\n",
    "hol\n",
    "\n",
    "train_s1['hol']=train_s1.application_date.isin(hol)\n",
    "test_s1['hol']=test_s1.application_date.isin(hol)\n",
    "hol"
   ]
  },
  {
   "cell_type": "code",
   "execution_count": 7,
   "metadata": {},
   "outputs": [
    {
     "data": {
      "text/plain": [
       "count      806.000000\n",
       "mean      2714.689826\n",
       "std       2042.418090\n",
       "min          1.000000\n",
       "25%       1633.250000\n",
       "50%       2602.000000\n",
       "75%       3333.000000\n",
       "max      21885.000000\n",
       "Name: case_count, dtype: float64"
      ]
     },
     "execution_count": 7,
     "metadata": {},
     "output_type": "execute_result"
    }
   ],
   "source": [
    "train_s1.case_count.describe()"
   ]
  },
  {
   "cell_type": "code",
   "execution_count": 8,
   "metadata": {},
   "outputs": [],
   "source": [
    "def create_features(df, label=None,seg=None):\n",
    "    \"\"\"\n",
    "    Creates time series features from datetime index.\n",
    "    \"\"\"\n",
    "    df = df.copy()\n",
    "    df['date'] = df.application_date\n",
    "    df['dayofweek'] = df['date'].dt.dayofweek\n",
    "    df['quarter'] = df['date'].dt.quarter\n",
    "    df['month'] = df['date'].dt.month\n",
    "    df['year'] = df['date'].dt.year\n",
    "    df['dayofyear'] = df['date'].dt.dayofyear\n",
    "    df['dayofmonth'] = df['date'].dt.day\n",
    "    df['week'] = df['date'].dt.week\n",
    "    df['is_month_start']=df['date'].dt.is_month_start\n",
    "    df['is_month_end']=df['date'].dt.is_month_end\n",
    "    df['is_quarter_start']=df['date'].dt.is_quarter_start\n",
    "    df['is_quarter_end']=df['date'].dt.is_quarter_end\n",
    "    df['is_year_start']=df['date'].dt.is_year_start\n",
    "    df['is_year_end']=df['date'].dt.is_year_end\n",
    "    df['Semester'] = np.where(df['quarter'].isin([1,2]),1,2)\n",
    "    \n",
    "    X = df.drop(['date','application_date'],axis=1)\n",
    "    if label:\n",
    "        y = df[label]\n",
    "        return X\n",
    "    return X\n",
    "\n",
    "Xtrain_s1 = create_features(train_s1, label='case_count',seg='1')\n",
    "Xtest_s1= create_features(test_s1)"
   ]
  },
  {
   "cell_type": "code",
   "execution_count": 9,
   "metadata": {},
   "outputs": [
    {
     "data": {
      "text/html": [
       "<div>\n",
       "<style scoped>\n",
       "    .dataframe tbody tr th:only-of-type {\n",
       "        vertical-align: middle;\n",
       "    }\n",
       "\n",
       "    .dataframe tbody tr th {\n",
       "        vertical-align: top;\n",
       "    }\n",
       "\n",
       "    .dataframe thead th {\n",
       "        text-align: right;\n",
       "    }\n",
       "</style>\n",
       "<table border=\"1\" class=\"dataframe\">\n",
       "  <thead>\n",
       "    <tr style=\"text-align: right;\">\n",
       "      <th></th>\n",
       "      <th>case_count</th>\n",
       "      <th>hol</th>\n",
       "      <th>dayofweek</th>\n",
       "      <th>quarter</th>\n",
       "      <th>month</th>\n",
       "      <th>year</th>\n",
       "      <th>dayofyear</th>\n",
       "      <th>dayofmonth</th>\n",
       "      <th>week</th>\n",
       "      <th>is_month_start</th>\n",
       "      <th>is_month_end</th>\n",
       "      <th>is_quarter_start</th>\n",
       "      <th>is_quarter_end</th>\n",
       "      <th>is_year_start</th>\n",
       "      <th>is_year_end</th>\n",
       "      <th>Semester</th>\n",
       "    </tr>\n",
       "  </thead>\n",
       "  <tbody>\n",
       "    <tr>\n",
       "      <th>0</th>\n",
       "      <td>299.0</td>\n",
       "      <td>False</td>\n",
       "      <td>5</td>\n",
       "      <td>2</td>\n",
       "      <td>4</td>\n",
       "      <td>2017</td>\n",
       "      <td>91</td>\n",
       "      <td>1</td>\n",
       "      <td>13</td>\n",
       "      <td>True</td>\n",
       "      <td>False</td>\n",
       "      <td>True</td>\n",
       "      <td>False</td>\n",
       "      <td>False</td>\n",
       "      <td>False</td>\n",
       "      <td>1</td>\n",
       "    </tr>\n",
       "    <tr>\n",
       "      <th>1</th>\n",
       "      <td>42.0</td>\n",
       "      <td>False</td>\n",
       "      <td>0</td>\n",
       "      <td>2</td>\n",
       "      <td>4</td>\n",
       "      <td>2017</td>\n",
       "      <td>93</td>\n",
       "      <td>3</td>\n",
       "      <td>14</td>\n",
       "      <td>False</td>\n",
       "      <td>False</td>\n",
       "      <td>False</td>\n",
       "      <td>False</td>\n",
       "      <td>False</td>\n",
       "      <td>False</td>\n",
       "      <td>1</td>\n",
       "    </tr>\n",
       "    <tr>\n",
       "      <th>2</th>\n",
       "      <td>23.0</td>\n",
       "      <td>False</td>\n",
       "      <td>1</td>\n",
       "      <td>2</td>\n",
       "      <td>4</td>\n",
       "      <td>2017</td>\n",
       "      <td>94</td>\n",
       "      <td>4</td>\n",
       "      <td>14</td>\n",
       "      <td>False</td>\n",
       "      <td>False</td>\n",
       "      <td>False</td>\n",
       "      <td>False</td>\n",
       "      <td>False</td>\n",
       "      <td>False</td>\n",
       "      <td>1</td>\n",
       "    </tr>\n",
       "    <tr>\n",
       "      <th>3</th>\n",
       "      <td>1530.0</td>\n",
       "      <td>True</td>\n",
       "      <td>2</td>\n",
       "      <td>2</td>\n",
       "      <td>4</td>\n",
       "      <td>2017</td>\n",
       "      <td>95</td>\n",
       "      <td>5</td>\n",
       "      <td>14</td>\n",
       "      <td>False</td>\n",
       "      <td>False</td>\n",
       "      <td>False</td>\n",
       "      <td>False</td>\n",
       "      <td>False</td>\n",
       "      <td>False</td>\n",
       "      <td>1</td>\n",
       "    </tr>\n",
       "    <tr>\n",
       "      <th>4</th>\n",
       "      <td>1341.0</td>\n",
       "      <td>False</td>\n",
       "      <td>4</td>\n",
       "      <td>2</td>\n",
       "      <td>4</td>\n",
       "      <td>2017</td>\n",
       "      <td>97</td>\n",
       "      <td>7</td>\n",
       "      <td>14</td>\n",
       "      <td>False</td>\n",
       "      <td>False</td>\n",
       "      <td>False</td>\n",
       "      <td>False</td>\n",
       "      <td>False</td>\n",
       "      <td>False</td>\n",
       "      <td>1</td>\n",
       "    </tr>\n",
       "  </tbody>\n",
       "</table>\n",
       "</div>"
      ],
      "text/plain": [
       "   case_count    hol  dayofweek  quarter  month  year  dayofyear  dayofmonth  \\\n",
       "0       299.0  False          5        2      4  2017         91           1   \n",
       "1        42.0  False          0        2      4  2017         93           3   \n",
       "2        23.0  False          1        2      4  2017         94           4   \n",
       "3      1530.0   True          2        2      4  2017         95           5   \n",
       "4      1341.0  False          4        2      4  2017         97           7   \n",
       "\n",
       "   week  is_month_start  is_month_end  is_quarter_start  is_quarter_end  \\\n",
       "0    13            True         False              True           False   \n",
       "1    14           False         False             False           False   \n",
       "2    14           False         False             False           False   \n",
       "3    14           False         False             False           False   \n",
       "4    14           False         False             False           False   \n",
       "\n",
       "   is_year_start  is_year_end  Semester  \n",
       "0          False        False         1  \n",
       "1          False        False         1  \n",
       "2          False        False         1  \n",
       "3          False        False         1  \n",
       "4          False        False         1  "
      ]
     },
     "execution_count": 9,
     "metadata": {},
     "output_type": "execute_result"
    }
   ],
   "source": [
    "Xtrain_s1.head()"
   ]
  },
  {
   "cell_type": "code",
   "execution_count": 10,
   "metadata": {},
   "outputs": [
    {
     "data": {
      "text/plain": [
       "1    442\n",
       "2    364\n",
       "Name: Semester, dtype: int64"
      ]
     },
     "execution_count": 10,
     "metadata": {},
     "output_type": "execute_result"
    }
   ],
   "source": [
    "Xtrain_s1['Semester'].value_counts()"
   ]
  },
  {
   "cell_type": "code",
   "execution_count": 11,
   "metadata": {},
   "outputs": [
    {
     "data": {
      "text/plain": [
       "count      806.000000\n",
       "mean      2714.689826\n",
       "std       2042.418090\n",
       "min          1.000000\n",
       "25%       1633.250000\n",
       "50%       2602.000000\n",
       "75%       3333.000000\n",
       "max      21885.000000\n",
       "Name: case_count, dtype: float64"
      ]
     },
     "execution_count": 11,
     "metadata": {},
     "output_type": "execute_result"
    }
   ],
   "source": [
    "Xtrain_s1.case_count.describe()"
   ]
  },
  {
   "cell_type": "code",
   "execution_count": 12,
   "metadata": {},
   "outputs": [],
   "source": [
    "Xtrain_s1 = Xtrain_s1[Xtrain_s1['case_count']>15]\n",
    "Xtrain_s1 = Xtrain_s1[Xtrain_s1['case_count']<=8000]\n",
    "Xtrain_s1=Xtrain_s1.reset_index().drop('index',axis=1)"
   ]
  },
  {
   "cell_type": "code",
   "execution_count": 13,
   "metadata": {},
   "outputs": [],
   "source": [
    "Xtrain_s2 = create_features(train_s2, label='case_count',seg='2')\n",
    "Xtest_s2= create_features(test_s2,seg='2')"
   ]
  },
  {
   "cell_type": "code",
   "execution_count": 14,
   "metadata": {},
   "outputs": [
    {
     "data": {
      "text/html": [
       "<div>\n",
       "<style scoped>\n",
       "    .dataframe tbody tr th:only-of-type {\n",
       "        vertical-align: middle;\n",
       "    }\n",
       "\n",
       "    .dataframe tbody tr th {\n",
       "        vertical-align: top;\n",
       "    }\n",
       "\n",
       "    .dataframe thead th {\n",
       "        text-align: right;\n",
       "    }\n",
       "</style>\n",
       "<table border=\"1\" class=\"dataframe\">\n",
       "  <thead>\n",
       "    <tr style=\"text-align: right;\">\n",
       "      <th></th>\n",
       "      <th>case_count</th>\n",
       "      <th>dayofweek</th>\n",
       "      <th>quarter</th>\n",
       "      <th>month</th>\n",
       "      <th>year</th>\n",
       "      <th>dayofyear</th>\n",
       "      <th>dayofmonth</th>\n",
       "      <th>week</th>\n",
       "      <th>is_month_start</th>\n",
       "      <th>is_month_end</th>\n",
       "      <th>is_quarter_start</th>\n",
       "      <th>is_quarter_end</th>\n",
       "      <th>is_year_start</th>\n",
       "      <th>is_year_end</th>\n",
       "      <th>Semester</th>\n",
       "    </tr>\n",
       "  </thead>\n",
       "  <tbody>\n",
       "    <tr>\n",
       "      <th>474</th>\n",
       "      <td>43340.0</td>\n",
       "      <td>3</td>\n",
       "      <td>3</td>\n",
       "      <td>7</td>\n",
       "      <td>2018</td>\n",
       "      <td>200</td>\n",
       "      <td>19</td>\n",
       "      <td>29</td>\n",
       "      <td>False</td>\n",
       "      <td>False</td>\n",
       "      <td>False</td>\n",
       "      <td>False</td>\n",
       "      <td>False</td>\n",
       "      <td>False</td>\n",
       "      <td>2</td>\n",
       "    </tr>\n",
       "  </tbody>\n",
       "</table>\n",
       "</div>"
      ],
      "text/plain": [
       "     case_count  dayofweek  quarter  month  year  dayofyear  dayofmonth  week  \\\n",
       "474     43340.0          3        3      7  2018        200          19    29   \n",
       "\n",
       "     is_month_start  is_month_end  is_quarter_start  is_quarter_end  \\\n",
       "474           False         False             False           False   \n",
       "\n",
       "     is_year_start  is_year_end  Semester  \n",
       "474          False        False         2  "
      ]
     },
     "execution_count": 14,
     "metadata": {},
     "output_type": "execute_result"
    }
   ],
   "source": [
    "Xtrain_s2[Xtrain_s2['case_count']>40000]"
   ]
  },
  {
   "cell_type": "code",
   "execution_count": 15,
   "metadata": {},
   "outputs": [],
   "source": [
    "Xtrain_s2 = Xtrain_s2[Xtrain_s2['case_count']<40000]\n",
    "Xtrain_s2=Xtrain_s2.reset_index().drop('index',axis=1)"
   ]
  },
  {
   "cell_type": "code",
   "execution_count": null,
   "metadata": {},
   "outputs": [],
   "source": []
  },
  {
   "cell_type": "code",
   "execution_count": 17,
   "metadata": {},
   "outputs": [],
   "source": [
    "from catboost import CatBoostClassifier,Pool, cv,CatBoostRegressor\n",
    "from lightgbm import LGBMClassifier,LGBMRegressor\n",
    "from sklearn.model_selection import StratifiedKFold,train_test_split\n",
    "from sklearn.linear_model import LogisticRegression\n",
    "from sklearn.ensemble import RandomForestClassifier\n",
    "from sklearn.metrics import accuracy_score,confusion_matrix,roc_auc_score"
   ]
  },
  {
   "cell_type": "code",
   "execution_count": 19,
   "metadata": {},
   "outputs": [],
   "source": [
    "col_to_drop=['case_count']\n",
    "X,y=Xtrain_s1.drop(col_to_drop,axis=1),Xtrain_s1['case_count']\n",
    "Xtest=Xtest_s1"
   ]
  },
  {
   "cell_type": "code",
   "execution_count": 20,
   "metadata": {},
   "outputs": [
    {
     "name": "stdout",
     "output_type": "stream",
     "text": [
      "(780, 15) (87, 15)\n"
     ]
    }
   ],
   "source": [
    "print(X.shape,Xtest.shape)\n",
    "X_train,X_val,y_train,y_val = train_test_split(X,y,test_size=0.3,random_state = 1994)"
   ]
  },
  {
   "cell_type": "code",
   "execution_count": 22,
   "metadata": {},
   "outputs": [
    {
     "name": "stdout",
     "output_type": "stream",
     "text": [
      "MAPE 117.7627335589473\n"
     ]
    }
   ],
   "source": [
    "from sklearn.ensemble import RandomForestRegressor,BaggingRegressor\n",
    "from sklearn.tree import DecisionTreeRegressor\n",
    "rf=DecisionTreeRegressor(random_state=1994,max_leaf_nodes=110,max_depth=10)\n",
    "rf.fit(X_train,y_train)\n",
    "\n",
    "p=rf.predict(X_val)\n",
    "\n",
    "print('MAPE',mean_absolute_percentage_error(y_val,p))"
   ]
  },
  {
   "cell_type": "code",
   "execution_count": 24,
   "metadata": {},
   "outputs": [
    {
     "data": {
      "image/png": "[encoded data removed]",
      "text/plain": [
       "<Figure size 864x576 with 1 Axes>"
      ]
     },
     "metadata": {
      "needs_background": "light"
     },
     "output_type": "display_data"
    }
   ],
   "source": [
    "import matplotlib.pyplot as plt\n",
    "import warnings\n",
    "import seaborn as sns\n",
    "sns.set_style('darkgrid')\n",
    "warnings.filterwarnings('ignore')\n",
    "\n",
    "%matplotlib inline\n",
    "feature_imp = pd.DataFrame(sorted(zip(rf.feature_importances_, X.columns), reverse=True)[:300], \n",
    "                           columns=['Value','Feature'])\n",
    "plt.figure(figsize=(12,8))\n",
    "sns.barplot(x=\"Value\", y=\"Feature\", data=feature_imp.sort_values(by=\"Value\", ascending=False))\n",
    "plt.title('LightGBM Features')\n",
    "plt.tight_layout()\n",
    "plt.show()"
   ]
  },
  {
   "cell_type": "code",
   "execution_count": 25,
   "metadata": {},
   "outputs": [],
   "source": [
    "grp=Xtrain_s1['dayofmonth'].values"
   ]
  },
  {
   "cell_type": "code",
   "execution_count": 26,
   "metadata": {},
   "outputs": [
    {
     "name": "stdout",
     "output_type": "stream",
     "text": [
      "err:  96.1581000051413\n",
      "err:  23.832413889466196\n",
      "err:  26.954069763856687\n",
      "err:  292.8126783826011\n",
      "err:  97.68079322809153\n",
      "err:  49.73260822894069\n",
      "err:  18.941121556119448\n",
      "err:  13.911960262752668\n",
      "err:  17.003143029166786\n",
      "err:  145.06094170301773\n",
      "err:  15.838056940548654\n",
      "err:  15.748332360615791\n",
      "err:  10.378202904130243\n",
      "err:  16.900927614010733\n",
      "err:  18.611556732143306\n",
      "err:  10.185504352568833\n",
      "err:  223.3617838742405\n",
      "err:  158.02278539395343\n",
      "err:  138.07006155164055\n",
      "err:  104.20590487579729\n"
     ]
    }
   ],
   "source": [
    "y_pred_tot_s1=[]\n",
    "err=[]\n",
    "from sklearn.model_selection import KFold,StratifiedKFold,TimeSeriesSplit,GroupKFold,GroupShuffleSplit\n",
    "fold=GroupKFold(n_splits=20)\n",
    "\n",
    "i=1\n",
    "for train_index, test_index in fold.split(X,y,grp):\n",
    "    X_train, X_test = X.iloc[train_index], X.iloc[test_index]\n",
    "    y_train, y_test = y[train_index], y[test_index]\n",
    "    m=DecisionTreeRegressor(random_state=1994,max_leaf_nodes=100,max_features=10)\n",
    "    m.fit(X_train,y_train)\n",
    "    preds=m.predict(X_test)\n",
    "    print(\"err: \",mean_absolute_percentage_error(y_test,preds))\n",
    "    err.append(mean_absolute_percentage_error(y_test,preds))\n",
    "    p = m.predict(Xtest)\n",
    "    i=i+1\n",
    "    y_pred_tot_s1.append(p)"
   ]
  },
  {
   "cell_type": "code",
   "execution_count": 27,
   "metadata": {},
   "outputs": [
    {
     "data": {
      "text/plain": [
       "74.67054733244018"
      ]
     },
     "execution_count": 27,
     "metadata": {},
     "output_type": "execute_result"
    }
   ],
   "source": [
    "np.mean(err)"
   ]
  },
  {
   "cell_type": "code",
   "execution_count": 29,
   "metadata": {},
   "outputs": [
    {
     "data": {
      "text/plain": [
       "74.67054733244018"
      ]
     },
     "execution_count": 29,
     "metadata": {},
     "output_type": "execute_result"
    }
   ],
   "source": [
    "np.mean(err)"
   ]
  },
  {
   "cell_type": "code",
   "execution_count": 30,
   "metadata": {},
   "outputs": [
    {
     "data": {
      "text/plain": [
       "[<matplotlib.lines.Line2D at 0x7fe9842936d8>]"
      ]
     },
     "execution_count": 30,
     "metadata": {},
     "output_type": "execute_result"
    },
    {
     "data": {
      "image/png": "[encoded data removed]",
      "text/plain": [
       "<Figure size 432x288 with 1 Axes>"
      ]
     },
     "metadata": {
      "needs_background": "light"
     },
     "output_type": "display_data"
    }
   ],
   "source": [
    "plt.plot(np.mean(y_pred_tot_s1,0))"
   ]
  },
  {
   "cell_type": "code",
   "execution_count": null,
   "metadata": {},
   "outputs": [],
   "source": []
  },
  {
   "cell_type": "code",
   "execution_count": 32,
   "metadata": {},
   "outputs": [
    {
     "name": "stdout",
     "output_type": "stream",
     "text": [
      "(843, 14) (93, 14)\n"
     ]
    }
   ],
   "source": [
    "col_to_drop=['case_count']\n",
    "X,y=Xtrain_s2.drop(col_to_drop,axis=1),Xtrain_s2['case_count']\n",
    "Xtest=Xtest_s2\n",
    "\n",
    "print(X.shape,Xtest.shape)\n",
    "X_train,X_val,y_train,y_val = train_test_split(X,y,test_size=0.3,random_state = 1994)"
   ]
  },
  {
   "cell_type": "code",
   "execution_count": 33,
   "metadata": {},
   "outputs": [
    {
     "name": "stdout",
     "output_type": "stream",
     "text": [
      "MAPE 24.00650286255746\n"
     ]
    }
   ],
   "source": [
    "from sklearn.ensemble import RandomForestRegressor\n",
    "rf=DecisionTreeRegressor(random_state=1994,max_depth=10,max_features=11)\n",
    "rf.fit(X_train,y_train)\n",
    "\n",
    "p=rf.predict(X_val)\n",
    "\n",
    "print('MAPE',mean_absolute_percentage_error(y_val,p))"
   ]
  },
  {
   "cell_type": "code",
   "execution_count": 34,
   "metadata": {},
   "outputs": [
    {
     "data": {
      "image/png": "[encoded data removed]",
      "text/plain": [
       "<Figure size 864x576 with 1 Axes>"
      ]
     },
     "metadata": {
      "needs_background": "light"
     },
     "output_type": "display_data"
    }
   ],
   "source": [
    "import matplotlib.pyplot as plt\n",
    "import warnings\n",
    "import seaborn as sns\n",
    "sns.set_style('darkgrid')\n",
    "warnings.filterwarnings('ignore')\n",
    "\n",
    "%matplotlib inline\n",
    "feature_imp = pd.DataFrame(sorted(zip(rf.feature_importances_, X.columns), reverse=True)[:300], \n",
    "                           columns=['Value','Feature'])\n",
    "plt.figure(figsize=(12,8))\n",
    "sns.barplot(x=\"Value\", y=\"Feature\", data=feature_imp.sort_values(by=\"Value\", ascending=False))\n",
    "plt.title('LightGBM Features')\n",
    "plt.tight_layout()\n",
    "plt.show()"
   ]
  },
  {
   "cell_type": "code",
   "execution_count": 35,
   "metadata": {},
   "outputs": [],
   "source": [
    "grp=Xtrain_s2['dayofyear'].values"
   ]
  },
  {
   "cell_type": "code",
   "execution_count": 36,
   "metadata": {},
   "outputs": [
    {
     "name": "stdout",
     "output_type": "stream",
     "text": [
      "err:  19.413530329050158\n",
      "err:  21.02840180570278\n",
      "err:  26.142880367255145\n",
      "err:  21.270734788666427\n",
      "err:  33.960312180231575\n",
      "err:  28.21523341457745\n",
      "err:  23.48079545345218\n",
      "err:  23.205613232127682\n",
      "err:  31.026905776096402\n",
      "err:  22.603793795752352\n"
     ]
    }
   ],
   "source": [
    "y_pred_tot_s2=[]\n",
    "err=[]\n",
    "from sklearn.model_selection import KFold,StratifiedKFold,TimeSeriesSplit\n",
    "fold=GroupKFold(n_splits=10)\n",
    "i=1\n",
    "for train_index, test_index in fold.split(X,y,grp):\n",
    "    X_train, X_test = X.iloc[train_index], X.iloc[test_index]\n",
    "    y_train, y_test = y[train_index], y[test_index]\n",
    "    m=DecisionTreeRegressor(random_state=1994,max_features=12)\n",
    "    m.fit(X_train,y_train)\n",
    "    preds=m.predict(X_test)\n",
    "    print(\"err: \",mean_absolute_percentage_error(y_test,preds))\n",
    "    err.append(mean_absolute_percentage_error(y_test,preds))\n",
    "    p = m.predict(Xtest)\n",
    "    i=i+1\n",
    "    y_pred_tot_s2.append(p)"
   ]
  },
  {
   "cell_type": "code",
   "execution_count": 37,
   "metadata": {},
   "outputs": [
    {
     "data": {
      "text/plain": [
       "25.034820114291215"
      ]
     },
     "execution_count": 37,
     "metadata": {},
     "output_type": "execute_result"
    }
   ],
   "source": [
    "np.mean(err)"
   ]
  },
  {
   "cell_type": "code",
   "execution_count": 39,
   "metadata": {},
   "outputs": [
    {
     "data": {
      "text/plain": [
       "[<matplotlib.lines.Line2D at 0x7fe98419dac8>]"
      ]
     },
     "execution_count": 39,
     "metadata": {},
     "output_type": "execute_result"
    },
    {
     "data": {
      "image/png": "[encoded data removed]",
      "text/plain": [
       "<Figure size 432x288 with 1 Axes>"
      ]
     },
     "metadata": {
      "needs_background": "light"
     },
     "output_type": "display_data"
    }
   ],
   "source": [
    "plt.plot(np.mean(y_pred_tot_s2,0))"
   ]
  },
  {
   "cell_type": "code",
   "execution_count": null,
   "metadata": {},
   "outputs": [],
   "source": []
  },
  {
   "cell_type": "code",
   "execution_count": 41,
   "metadata": {},
   "outputs": [],
   "source": [
    "test.loc[test.segment==1, 'case_count']=np.mean(y_pred_tot_s1,0)\n",
    "test.loc[test.segment==2, 'case_count']=np.mean(y_pred_tot_s2,0)"
   ]
  },
  {
   "cell_type": "code",
   "execution_count": 42,
   "metadata": {},
   "outputs": [
    {
     "data": {
      "text/html": [
       "<div>\n",
       "<style scoped>\n",
       "    .dataframe tbody tr th:only-of-type {\n",
       "        vertical-align: middle;\n",
       "    }\n",
       "\n",
       "    .dataframe tbody tr th {\n",
       "        vertical-align: top;\n",
       "    }\n",
       "\n",
       "    .dataframe thead th {\n",
       "        text-align: right;\n",
       "    }\n",
       "</style>\n",
       "<table border=\"1\" class=\"dataframe\">\n",
       "  <thead>\n",
       "    <tr style=\"text-align: right;\">\n",
       "      <th></th>\n",
       "      <th>id</th>\n",
       "      <th>application_date</th>\n",
       "      <th>segment</th>\n",
       "      <th>case_count</th>\n",
       "    </tr>\n",
       "  </thead>\n",
       "  <tbody>\n",
       "    <tr>\n",
       "      <th>0</th>\n",
       "      <td>1</td>\n",
       "      <td>2019-07-06</td>\n",
       "      <td>1</td>\n",
       "      <td>2419.335275</td>\n",
       "    </tr>\n",
       "    <tr>\n",
       "      <th>1</th>\n",
       "      <td>2</td>\n",
       "      <td>2019-07-07</td>\n",
       "      <td>1</td>\n",
       "      <td>1601.375786</td>\n",
       "    </tr>\n",
       "    <tr>\n",
       "      <th>2</th>\n",
       "      <td>3</td>\n",
       "      <td>2019-07-08</td>\n",
       "      <td>1</td>\n",
       "      <td>3810.980022</td>\n",
       "    </tr>\n",
       "    <tr>\n",
       "      <th>3</th>\n",
       "      <td>4</td>\n",
       "      <td>2019-07-09</td>\n",
       "      <td>1</td>\n",
       "      <td>3533.774295</td>\n",
       "    </tr>\n",
       "    <tr>\n",
       "      <th>4</th>\n",
       "      <td>5</td>\n",
       "      <td>2019-07-10</td>\n",
       "      <td>1</td>\n",
       "      <td>3533.774295</td>\n",
       "    </tr>\n",
       "    <tr>\n",
       "      <th>...</th>\n",
       "      <td>...</td>\n",
       "      <td>...</td>\n",
       "      <td>...</td>\n",
       "      <td>...</td>\n",
       "    </tr>\n",
       "    <tr>\n",
       "      <th>175</th>\n",
       "      <td>176</td>\n",
       "      <td>2019-10-20</td>\n",
       "      <td>2</td>\n",
       "      <td>17421.000000</td>\n",
       "    </tr>\n",
       "    <tr>\n",
       "      <th>176</th>\n",
       "      <td>177</td>\n",
       "      <td>2019-10-21</td>\n",
       "      <td>2</td>\n",
       "      <td>22355.600000</td>\n",
       "    </tr>\n",
       "    <tr>\n",
       "      <th>177</th>\n",
       "      <td>178</td>\n",
       "      <td>2019-10-22</td>\n",
       "      <td>2</td>\n",
       "      <td>27887.400000</td>\n",
       "    </tr>\n",
       "    <tr>\n",
       "      <th>178</th>\n",
       "      <td>179</td>\n",
       "      <td>2019-10-23</td>\n",
       "      <td>2</td>\n",
       "      <td>29801.800000</td>\n",
       "    </tr>\n",
       "    <tr>\n",
       "      <th>179</th>\n",
       "      <td>180</td>\n",
       "      <td>2019-10-24</td>\n",
       "      <td>2</td>\n",
       "      <td>28490.500000</td>\n",
       "    </tr>\n",
       "  </tbody>\n",
       "</table>\n",
       "<p>180 rows × 4 columns</p>\n",
       "</div>"
      ],
      "text/plain": [
       "      id application_date  segment    case_count\n",
       "0      1       2019-07-06        1   2419.335275\n",
       "1      2       2019-07-07        1   1601.375786\n",
       "2      3       2019-07-08        1   3810.980022\n",
       "3      4       2019-07-09        1   3533.774295\n",
       "4      5       2019-07-10        1   3533.774295\n",
       "..   ...              ...      ...           ...\n",
       "175  176       2019-10-20        2  17421.000000\n",
       "176  177       2019-10-21        2  22355.600000\n",
       "177  178       2019-10-22        2  27887.400000\n",
       "178  179       2019-10-23        2  29801.800000\n",
       "179  180       2019-10-24        2  28490.500000\n",
       "\n",
       "[180 rows x 4 columns]"
      ]
     },
     "execution_count": 42,
     "metadata": {},
     "output_type": "execute_result"
    }
   ],
   "source": [
    "test"
   ]
  },
  {
   "cell_type": "code",
   "execution_count": 43,
   "metadata": {},
   "outputs": [],
   "source": [
    "test.to_csv('kv7_dtrholidays.csv',index=False) "
   ]
  }
 ],
 "metadata": {
  "kernelspec": {
   "display_name": "Python 3",
   "language": "python",
   "name": "python3"
  },
  "language_info": {
   "codemirror_mode": {
    "name": "ipython",
    "version": 3
   },
   "file_extension": ".py",
   "mimetype": "text/x-python",
   "name": "python",
   "nbconvert_exporter": "python",
   "pygments_lexer": "ipython3",
   "version": "3.7.4"
  },
  "toc": {
   "base_numbering": 1,
   "nav_menu": {},
   "number_sections": true,
   "sideBar": true,
   "skip_h1_title": false,
   "title_cell": "Table of Contents",
   "title_sidebar": "Contents",
   "toc_cell": false,
   "toc_position": {},
   "toc_section_display": true,
   "toc_window_display": false
  }
 },
 "nbformat": 4,
 "nbformat_minor": 1
}
